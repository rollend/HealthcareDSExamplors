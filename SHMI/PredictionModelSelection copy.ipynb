{
 "cells": [
  {
   "cell_type": "code",
   "execution_count": 1,
   "metadata": {},
   "outputs": [],
   "source": [
    "%reload_ext autoreload\n",
    "%autoreload 2\n",
    "import os\n",
    "import sys\n",
    "##import Bedrock_Client\n",
    "##import pyodbc\n",
    "import pandas as pd\n",
    "import SHMI_PREDICTOR_SUPERVISED"
   ]
  },
  {
   "cell_type": "code",
   "execution_count": 2,
   "metadata": {},
   "outputs": [],
   "source": [
    "##df = pd.read_sql_query('select * fROM ref.SHMI_Model_Predict_Statistics',Bedrock_Conn)\n",
    "import Pickle_Utility\n",
    "df =Pickle_Utility.read('shimi_predictor')\n",
    "df = df.sort_values(by = ['PREDICTOR','DIAGNOSIS_GROUP','Date'])"
   ]
  },
  {
   "cell_type": "code",
   "execution_count": 3,
   "metadata": {},
   "outputs": [],
   "source": [
    "time_index = pd.DataFrame(pd.date_range('2019-05-01', periods=11, freq='MS')+ pd.DateOffset(days=12), columns=['Date'])"
   ]
  },
  {
   "cell_type": "code",
   "execution_count": 4,
   "metadata": {},
   "outputs": [],
   "source": [
    "TEST= df.loc[(df.loc[:,'PREDICTOR']=='AGE_GROUP_3')&(df.loc[:,'DIAGNOSIS_GROUP']=='103'),:]"
   ]
  },
  {
   "cell_type": "code",
   "execution_count": 5,
   "metadata": {},
   "outputs": [
    {
     "output_type": "execute_result",
     "data": {
      "text/plain": "      INDICATOR_CODE DIAGNOSIS_GROUP    PREDICTOR PARAMETER_ESTIMATE  \\\n64146         I00699             103  AGE_GROUP_3            -2.5426   \n57545         I00699             103  AGE_GROUP_3            -2.5039   \n50945         I00699             103  AGE_GROUP_3            -2.4549   \n44344         I00699             103  AGE_GROUP_3             -2.446   \n37744         I00699             103  AGE_GROUP_3            -2.4213   \n31145         I00699             103  AGE_GROUP_3            -2.3932   \n24546         I00699             103  AGE_GROUP_3            -2.3733   \n17949         I00699             103  AGE_GROUP_3           -14.0346   \n11351         I00699             103  AGE_GROUP_3           -14.0167   \n4755          I00699             103  AGE_GROUP_3           -13.9166   \n70748         I00699             103  AGE_GROUP_3            -13.931   \n\n      STANDARD_ERROR WALD_CHI_SQUARE WALD_DF WALD_P_VALUE PUBLISHED_DATE  \\\n64146         1.0032          6.4239       1       0.0113       20190513   \n57545         1.0033          6.2291       1       0.0126       20190613   \n50945         1.0033          5.9865       1       0.0144       20190713   \n44344         1.0034          5.9429       1       0.0148       20190813   \n37744         1.0034          5.8226       1       0.0158       20190913   \n31145         1.0035          5.6877       1       0.0171       20191013   \n24546         1.0035          5.5929       1        0.018       20191113   \n17949       341.0284          0.0017       1       0.9672       20191213   \n11351       339.8537          0.0017       1       0.9671       20200113   \n4755        315.6272          0.0019       1       0.9648       20200213   \n70748       314.9304           0.002       1       0.9647       20200313   \n\n      SHMIPREDICTOR       Date  \n64146  201801201812 2019-05-13  \n57545  201802201901 2019-06-13  \n50945  201803201902 2019-07-13  \n44344  201804201903 2019-08-13  \n37744  201805201904 2019-09-13  \n31145  201806201905 2019-10-13  \n24546  201807201906 2019-11-13  \n17949  201808201907 2019-12-13  \n11351  201809201908 2020-01-13  \n4755   201810201909 2020-02-13  \n70748  201811201910 2020-03-13  ",
      "text/html": "<div>\n<style scoped>\n    .dataframe tbody tr th:only-of-type {\n        vertical-align: middle;\n    }\n\n    .dataframe tbody tr th {\n        vertical-align: top;\n    }\n\n    .dataframe thead th {\n        text-align: right;\n    }\n</style>\n<table border=\"1\" class=\"dataframe\">\n  <thead>\n    <tr style=\"text-align: right;\">\n      <th></th>\n      <th>INDICATOR_CODE</th>\n      <th>DIAGNOSIS_GROUP</th>\n      <th>PREDICTOR</th>\n      <th>PARAMETER_ESTIMATE</th>\n      <th>STANDARD_ERROR</th>\n      <th>WALD_CHI_SQUARE</th>\n      <th>WALD_DF</th>\n      <th>WALD_P_VALUE</th>\n      <th>PUBLISHED_DATE</th>\n      <th>SHMIPREDICTOR</th>\n      <th>Date</th>\n    </tr>\n  </thead>\n  <tbody>\n    <tr>\n      <th>64146</th>\n      <td>I00699</td>\n      <td>103</td>\n      <td>AGE_GROUP_3</td>\n      <td>-2.5426</td>\n      <td>1.0032</td>\n      <td>6.4239</td>\n      <td>1</td>\n      <td>0.0113</td>\n      <td>20190513</td>\n      <td>201801201812</td>\n      <td>2019-05-13</td>\n    </tr>\n    <tr>\n      <th>57545</th>\n      <td>I00699</td>\n      <td>103</td>\n      <td>AGE_GROUP_3</td>\n      <td>-2.5039</td>\n      <td>1.0033</td>\n      <td>6.2291</td>\n      <td>1</td>\n      <td>0.0126</td>\n      <td>20190613</td>\n      <td>201802201901</td>\n      <td>2019-06-13</td>\n    </tr>\n    <tr>\n      <th>50945</th>\n      <td>I00699</td>\n      <td>103</td>\n      <td>AGE_GROUP_3</td>\n      <td>-2.4549</td>\n      <td>1.0033</td>\n      <td>5.9865</td>\n      <td>1</td>\n      <td>0.0144</td>\n      <td>20190713</td>\n      <td>201803201902</td>\n      <td>2019-07-13</td>\n    </tr>\n    <tr>\n      <th>44344</th>\n      <td>I00699</td>\n      <td>103</td>\n      <td>AGE_GROUP_3</td>\n      <td>-2.446</td>\n      <td>1.0034</td>\n      <td>5.9429</td>\n      <td>1</td>\n      <td>0.0148</td>\n      <td>20190813</td>\n      <td>201804201903</td>\n      <td>2019-08-13</td>\n    </tr>\n    <tr>\n      <th>37744</th>\n      <td>I00699</td>\n      <td>103</td>\n      <td>AGE_GROUP_3</td>\n      <td>-2.4213</td>\n      <td>1.0034</td>\n      <td>5.8226</td>\n      <td>1</td>\n      <td>0.0158</td>\n      <td>20190913</td>\n      <td>201805201904</td>\n      <td>2019-09-13</td>\n    </tr>\n    <tr>\n      <th>31145</th>\n      <td>I00699</td>\n      <td>103</td>\n      <td>AGE_GROUP_3</td>\n      <td>-2.3932</td>\n      <td>1.0035</td>\n      <td>5.6877</td>\n      <td>1</td>\n      <td>0.0171</td>\n      <td>20191013</td>\n      <td>201806201905</td>\n      <td>2019-10-13</td>\n    </tr>\n    <tr>\n      <th>24546</th>\n      <td>I00699</td>\n      <td>103</td>\n      <td>AGE_GROUP_3</td>\n      <td>-2.3733</td>\n      <td>1.0035</td>\n      <td>5.5929</td>\n      <td>1</td>\n      <td>0.018</td>\n      <td>20191113</td>\n      <td>201807201906</td>\n      <td>2019-11-13</td>\n    </tr>\n    <tr>\n      <th>17949</th>\n      <td>I00699</td>\n      <td>103</td>\n      <td>AGE_GROUP_3</td>\n      <td>-14.0346</td>\n      <td>341.0284</td>\n      <td>0.0017</td>\n      <td>1</td>\n      <td>0.9672</td>\n      <td>20191213</td>\n      <td>201808201907</td>\n      <td>2019-12-13</td>\n    </tr>\n    <tr>\n      <th>11351</th>\n      <td>I00699</td>\n      <td>103</td>\n      <td>AGE_GROUP_3</td>\n      <td>-14.0167</td>\n      <td>339.8537</td>\n      <td>0.0017</td>\n      <td>1</td>\n      <td>0.9671</td>\n      <td>20200113</td>\n      <td>201809201908</td>\n      <td>2020-01-13</td>\n    </tr>\n    <tr>\n      <th>4755</th>\n      <td>I00699</td>\n      <td>103</td>\n      <td>AGE_GROUP_3</td>\n      <td>-13.9166</td>\n      <td>315.6272</td>\n      <td>0.0019</td>\n      <td>1</td>\n      <td>0.9648</td>\n      <td>20200213</td>\n      <td>201810201909</td>\n      <td>2020-02-13</td>\n    </tr>\n    <tr>\n      <th>70748</th>\n      <td>I00699</td>\n      <td>103</td>\n      <td>AGE_GROUP_3</td>\n      <td>-13.931</td>\n      <td>314.9304</td>\n      <td>0.002</td>\n      <td>1</td>\n      <td>0.9647</td>\n      <td>20200313</td>\n      <td>201811201910</td>\n      <td>2020-03-13</td>\n    </tr>\n  </tbody>\n</table>\n</div>"
     },
     "metadata": {},
     "execution_count": 5
    }
   ],
   "source": [
    "TEST"
   ]
  },
  {
   "cell_type": "code",
   "execution_count": 6,
   "metadata": {},
   "outputs": [],
   "source": [
    "extract = pd.merge(time_index, TEST, left_on='Date',right_on='Date',how='left')\n",
    "extract.set_index('Date',inplace=True)\n",
    "extract['PARAMETER_ESTIMATE'] = extract['PARAMETER_ESTIMATE'].astype(float).interpolate()\n",
    "extract['PARAMETER_ESTIMATE'] = extract['PARAMETER_ESTIMATE'].astype(float).interpolate(limit_direction ='backward')"
   ]
  },
  {
   "cell_type": "code",
   "execution_count": 7,
   "metadata": {},
   "outputs": [
    {
     "output_type": "execute_result",
     "data": {
      "text/plain": "           INDICATOR_CODE DIAGNOSIS_GROUP    PREDICTOR  PARAMETER_ESTIMATE  \\\nDate                                                                         \n2019-05-13         I00699             103  AGE_GROUP_3             -2.5426   \n2019-06-13         I00699             103  AGE_GROUP_3             -2.5039   \n2019-07-13         I00699             103  AGE_GROUP_3             -2.4549   \n2019-08-13         I00699             103  AGE_GROUP_3             -2.4460   \n2019-09-13         I00699             103  AGE_GROUP_3             -2.4213   \n2019-10-13         I00699             103  AGE_GROUP_3             -2.3932   \n2019-11-13         I00699             103  AGE_GROUP_3             -2.3733   \n2019-12-13         I00699             103  AGE_GROUP_3            -14.0346   \n2020-01-13         I00699             103  AGE_GROUP_3            -14.0167   \n2020-02-13         I00699             103  AGE_GROUP_3            -13.9166   \n2020-03-13         I00699             103  AGE_GROUP_3            -13.9310   \n\n           STANDARD_ERROR WALD_CHI_SQUARE WALD_DF WALD_P_VALUE PUBLISHED_DATE  \\\nDate                                                                            \n2019-05-13         1.0032          6.4239       1       0.0113       20190513   \n2019-06-13         1.0033          6.2291       1       0.0126       20190613   \n2019-07-13         1.0033          5.9865       1       0.0144       20190713   \n2019-08-13         1.0034          5.9429       1       0.0148       20190813   \n2019-09-13         1.0034          5.8226       1       0.0158       20190913   \n2019-10-13         1.0035          5.6877       1       0.0171       20191013   \n2019-11-13         1.0035          5.5929       1        0.018       20191113   \n2019-12-13       341.0284          0.0017       1       0.9672       20191213   \n2020-01-13       339.8537          0.0017       1       0.9671       20200113   \n2020-02-13       315.6272          0.0019       1       0.9648       20200213   \n2020-03-13       314.9304           0.002       1       0.9647       20200313   \n\n           SHMIPREDICTOR  \nDate                      \n2019-05-13  201801201812  \n2019-06-13  201802201901  \n2019-07-13  201803201902  \n2019-08-13  201804201903  \n2019-09-13  201805201904  \n2019-10-13  201806201905  \n2019-11-13  201807201906  \n2019-12-13  201808201907  \n2020-01-13  201809201908  \n2020-02-13  201810201909  \n2020-03-13  201811201910  ",
      "text/html": "<div>\n<style scoped>\n    .dataframe tbody tr th:only-of-type {\n        vertical-align: middle;\n    }\n\n    .dataframe tbody tr th {\n        vertical-align: top;\n    }\n\n    .dataframe thead th {\n        text-align: right;\n    }\n</style>\n<table border=\"1\" class=\"dataframe\">\n  <thead>\n    <tr style=\"text-align: right;\">\n      <th></th>\n      <th>INDICATOR_CODE</th>\n      <th>DIAGNOSIS_GROUP</th>\n      <th>PREDICTOR</th>\n      <th>PARAMETER_ESTIMATE</th>\n      <th>STANDARD_ERROR</th>\n      <th>WALD_CHI_SQUARE</th>\n      <th>WALD_DF</th>\n      <th>WALD_P_VALUE</th>\n      <th>PUBLISHED_DATE</th>\n      <th>SHMIPREDICTOR</th>\n    </tr>\n    <tr>\n      <th>Date</th>\n      <th></th>\n      <th></th>\n      <th></th>\n      <th></th>\n      <th></th>\n      <th></th>\n      <th></th>\n      <th></th>\n      <th></th>\n      <th></th>\n    </tr>\n  </thead>\n  <tbody>\n    <tr>\n      <th>2019-05-13</th>\n      <td>I00699</td>\n      <td>103</td>\n      <td>AGE_GROUP_3</td>\n      <td>-2.5426</td>\n      <td>1.0032</td>\n      <td>6.4239</td>\n      <td>1</td>\n      <td>0.0113</td>\n      <td>20190513</td>\n      <td>201801201812</td>\n    </tr>\n    <tr>\n      <th>2019-06-13</th>\n      <td>I00699</td>\n      <td>103</td>\n      <td>AGE_GROUP_3</td>\n      <td>-2.5039</td>\n      <td>1.0033</td>\n      <td>6.2291</td>\n      <td>1</td>\n      <td>0.0126</td>\n      <td>20190613</td>\n      <td>201802201901</td>\n    </tr>\n    <tr>\n      <th>2019-07-13</th>\n      <td>I00699</td>\n      <td>103</td>\n      <td>AGE_GROUP_3</td>\n      <td>-2.4549</td>\n      <td>1.0033</td>\n      <td>5.9865</td>\n      <td>1</td>\n      <td>0.0144</td>\n      <td>20190713</td>\n      <td>201803201902</td>\n    </tr>\n    <tr>\n      <th>2019-08-13</th>\n      <td>I00699</td>\n      <td>103</td>\n      <td>AGE_GROUP_3</td>\n      <td>-2.4460</td>\n      <td>1.0034</td>\n      <td>5.9429</td>\n      <td>1</td>\n      <td>0.0148</td>\n      <td>20190813</td>\n      <td>201804201903</td>\n    </tr>\n    <tr>\n      <th>2019-09-13</th>\n      <td>I00699</td>\n      <td>103</td>\n      <td>AGE_GROUP_3</td>\n      <td>-2.4213</td>\n      <td>1.0034</td>\n      <td>5.8226</td>\n      <td>1</td>\n      <td>0.0158</td>\n      <td>20190913</td>\n      <td>201805201904</td>\n    </tr>\n    <tr>\n      <th>2019-10-13</th>\n      <td>I00699</td>\n      <td>103</td>\n      <td>AGE_GROUP_3</td>\n      <td>-2.3932</td>\n      <td>1.0035</td>\n      <td>5.6877</td>\n      <td>1</td>\n      <td>0.0171</td>\n      <td>20191013</td>\n      <td>201806201905</td>\n    </tr>\n    <tr>\n      <th>2019-11-13</th>\n      <td>I00699</td>\n      <td>103</td>\n      <td>AGE_GROUP_3</td>\n      <td>-2.3733</td>\n      <td>1.0035</td>\n      <td>5.5929</td>\n      <td>1</td>\n      <td>0.018</td>\n      <td>20191113</td>\n      <td>201807201906</td>\n    </tr>\n    <tr>\n      <th>2019-12-13</th>\n      <td>I00699</td>\n      <td>103</td>\n      <td>AGE_GROUP_3</td>\n      <td>-14.0346</td>\n      <td>341.0284</td>\n      <td>0.0017</td>\n      <td>1</td>\n      <td>0.9672</td>\n      <td>20191213</td>\n      <td>201808201907</td>\n    </tr>\n    <tr>\n      <th>2020-01-13</th>\n      <td>I00699</td>\n      <td>103</td>\n      <td>AGE_GROUP_3</td>\n      <td>-14.0167</td>\n      <td>339.8537</td>\n      <td>0.0017</td>\n      <td>1</td>\n      <td>0.9671</td>\n      <td>20200113</td>\n      <td>201809201908</td>\n    </tr>\n    <tr>\n      <th>2020-02-13</th>\n      <td>I00699</td>\n      <td>103</td>\n      <td>AGE_GROUP_3</td>\n      <td>-13.9166</td>\n      <td>315.6272</td>\n      <td>0.0019</td>\n      <td>1</td>\n      <td>0.9648</td>\n      <td>20200213</td>\n      <td>201810201909</td>\n    </tr>\n    <tr>\n      <th>2020-03-13</th>\n      <td>I00699</td>\n      <td>103</td>\n      <td>AGE_GROUP_3</td>\n      <td>-13.9310</td>\n      <td>314.9304</td>\n      <td>0.002</td>\n      <td>1</td>\n      <td>0.9647</td>\n      <td>20200313</td>\n      <td>201811201910</td>\n    </tr>\n  </tbody>\n</table>\n</div>"
     },
     "metadata": {},
     "execution_count": 7
    }
   ],
   "source": [
    "extract"
   ]
  },
  {
   "cell_type": "code",
   "execution_count": 8,
   "metadata": {},
   "outputs": [],
   "source": [
    "chunks = SHMI_PREDICTOR_SUPERVISED.to_chunks(df, 'PREDICTOR','DIAGNOSIS_GROUP')"
   ]
  },
  {
   "cell_type": "code",
   "execution_count": 97,
   "metadata": {},
   "outputs": [],
   "source": [
    "import numpy as np\n",
    "test = np.array(SHMI_PREDICTOR_SUPERVISED.variable_to_series(chunks[0],3)).astype(float)"
   ]
  },
  {
   "cell_type": "code",
   "execution_count": 98,
   "metadata": {},
   "outputs": [
    {
     "output_type": "execute_result",
     "data": {
      "text/plain": "(array([[-1.3545, -1.5674, -1.579 , -1.5918, -1.6894],\n        [-1.5674, -1.579 , -1.5918, -1.6894, -1.8427],\n        [-1.579 , -1.5918, -1.6894, -1.8427, -1.8411],\n        [-1.5918, -1.6894, -1.8427, -1.8411, -1.8507],\n        [-1.6894, -1.8427, -1.8411, -1.8507, -1.8199],\n        [-1.8427, -1.8411, -1.8507, -1.8199, -1.994 ]]),\n array([-1.8411, -1.8507, -1.8199, -1.994 , -1.9773]))"
     },
     "metadata": {},
     "execution_count": 98
    }
   ],
   "source": [
    "SHMI_PREDICTOR_SUPERVISED.supervised_for_steps(test,4,1)"
   ]
  },
  {
   "cell_type": "code",
   "execution_count": 99,
   "metadata": {},
   "outputs": [
    {
     "output_type": "execute_result",
     "data": {
      "text/plain": "array([-1.3545, -1.5674, -1.579 , -1.5918, -1.6894, -1.8427, -1.8411,\n       -1.8507, -1.8199, -1.994 , -1.9773])"
     },
     "metadata": {},
     "execution_count": 99
    }
   ],
   "source": [
    "test"
   ]
  },
  {
   "cell_type": "code",
   "execution_count": 101,
   "metadata": {},
   "outputs": [],
   "source": [
    "train_data, test_data,actual = SHMI_PREDICTOR_SUPERVISED.data_prep(chunks,4)"
   ]
  },
  {
   "cell_type": "code",
   "execution_count": 102,
   "metadata": {},
   "outputs": [
    {
     "output_type": "execute_result",
     "data": {
      "text/plain": "(6605, 1, 1, 6, 5)"
     },
     "metadata": {},
     "execution_count": 102
    }
   ],
   "source": [
    "train_data.shape"
   ]
  },
  {
   "cell_type": "code",
   "execution_count": 103,
   "metadata": {},
   "outputs": [
    {
     "output_type": "execute_result",
     "data": {
      "text/plain": "(6605, 1, 5)"
     },
     "metadata": {},
     "execution_count": 103
    }
   ],
   "source": [
    "test_data.shape"
   ]
  },
  {
   "cell_type": "code",
   "execution_count": 104,
   "metadata": {},
   "outputs": [
    {
     "output_type": "stream",
     "name": "stdout",
     "text": "Defined 8 models\n"
    }
   ],
   "source": [
    "model_list = SHMI_PREDICTOR_SUPERVISED.get_models()"
   ]
  },
  {
   "cell_type": "code",
   "execution_count": 110,
   "metadata": {
    "tags": [
     "outputPrepend",
     "outputPrepend",
     "outputPrepend",
     "outputPrepend",
     "outputPrepend",
     "outputPrepend",
     "outputPrepend",
     "outputPrepend",
     "outputPrepend",
     "outputPrepend",
     "outputPrepend",
     "outputPrepend",
     "outputPrepend",
     "outputPrepend",
     "outputPrepend",
     "outputPrepend",
     "outputPrepend",
     "outputPrepend",
     "outputPrepend",
     "outputPrepend",
     "outputPrepend",
     "outputPrepend",
     "outputPrepend",
     "outputPrepend",
     "outputPrepend",
     "outputPrepend",
     "outputPrepend",
     "outputPrepend",
     "outputPrepend",
     "outputPrepend",
     "outputPrepend",
     "outputPrepend",
     "outputPrepend",
     "outputPrepend",
     "outputPrepend",
     "outputPrepend",
     "outputPrepend",
     "outputPrepend",
     "outputPrepend",
     "outputPrepend",
     "outputPrepend"
    ]
   },
   "outputs": [
    {
     "output_type": "stream",
     "name": "stdout",
     "text": "lr: 1.993 MAE\nlasso: 2.584 MAE\nridge: 2.242 MAE\nen: 2.584 MAE\nhuber: 1.540 MAE\nllars: 2.584 MAE\npa: 0.192 MAE\nsgd: 0.194 MAE\n"
    }
   ],
   "source": [
    "SHMI_PREDICTOR_SUPERVISED.evaluate_models(model_list,train_data,test_data,actual)"
   ]
  },
  {
   "cell_type": "code",
   "execution_count": 68,
   "metadata": {
    "tags": [
     "outputPrepend",
     "outputPrepend",
     "outputPrepend",
     "outputPrepend",
     "outputPrepend",
     "outputPrepend",
     "outputPrepend",
     "outputPrepend",
     "outputPrepend",
     "outputPrepend",
     "outputPrepend",
     "outputPrepend",
     "outputPrepend",
     "outputPrepend",
     "outputPrepend",
     "outputPrepend",
     "outputPrepend",
     "outputPrepend",
     "outputPrepend",
     "outputPrepend",
     "outputPrepend",
     "outputPrepend",
     "outputPrepend",
     "outputPrepend",
     "outputPrepend",
     "outputPrepend",
     "outputPrepend",
     "outputPrepend",
     "outputPrepend",
     "outputPrepend",
     "outputPrepend",
     "outputPrepend",
     "outputPrepend",
     "outputPrepend",
     "outputPrepend",
     "outputPrepend",
     "outputPrepend",
     "outputPrepend",
     "outputPrepend",
     "outputPrepend",
     "outputPrepend",
     "outputPrepend",
     "outputPrepend",
     "outputPrepend",
     "outputPrepend",
     "outputPrepend",
     "outputPrepend",
     "outputPrepend",
     "outputPrepend",
     "outputPrepend",
     "outputPrepend",
     "outputPrepend",
     "outputPrepend",
     "outputPrepend",
     "outputPrepend",
     "outputPrepend",
     "outputPrepend",
     "outputPrepend",
     "outputPrepend",
     "outputPrepend",
     "outputPrepend",
     "outputPrepend",
     "outputPrepend",
     "outputPrepend",
     "outputPrepend",
     "outputPrepend",
     "outputPrepend",
     "outputPrepend",
     "outputPrepend",
     "outputPrepend",
     "outputPrepend",
     "outputPrepend",
     "outputPrepend",
     "outputPrepend",
     "outputPrepend",
     "outputPrepend",
     "outputPrepend",
     "outputPrepend",
     "outputPrepend",
     "outputPrepend",
     "outputPrepend",
     "outputPrepend",
     "outputPrepend",
     "outputPrepend",
     "outputPrepend",
     "outputPrepend",
     "outputPrepend",
     "outputPrepend",
     "outputPrepend",
     "outputPrepend",
     "outputPrepend",
     "outputPrepend",
     "outputPrepend",
     "outputPrepend",
     "outputPrepend",
     "outputPrepend",
     "outputPrepend",
     "outputPrepend",
     "outputPrepend",
     "outputPrepend",
     "outputPrepend",
     "outputPrepend",
     "outputPrepend",
     "outputPrepend",
     "outputPrepend",
     "outputPrepend",
     "outputPrepend",
     "outputPrepend",
     "outputPrepend",
     "outputPrepend",
     "outputPrepend",
     "outputPrepend",
     "outputPrepend",
     "outputPrepend",
     "outputPrepend",
     "outputPrepend",
     "outputPrepend",
     "outputPrepend",
     "outputPrepend",
     "outputPrepend",
     "outputPrepend",
     "outputPrepend",
     "outputPrepend",
     "outputPrepend",
     "outputPrepend",
     "outputPrepend",
     "outputPrepend",
     "outputPrepend",
     "outputPrepend",
     "outputPrepend",
     "outputPrepend",
     "outputPrepend",
     "outputPrepend",
     "outputPrepend",
     "outputPrepend",
     "outputPrepend",
     "outputPrepend",
     "outputPrepend",
     "outputPrepend",
     "outputPrepend",
     "outputPrepend",
     "outputPrepend",
     "outputPrepend",
     "outputPrepend",
     "outputPrepend",
     "outputPrepend",
     "outputPrepend",
     "outputPrepend",
     "outputPrepend",
     "outputPrepend",
     "outputPrepend",
     "outputPrepend",
     "outputPrepend",
     "outputPrepend",
     "outputPrepend",
     "outputPrepend",
     "outputPrepend",
     "outputPrepend",
     "outputPrepend",
     "outputPrepend",
     "outputPrepend",
     "outputPrepend",
     "outputPrepend",
     "outputPrepend",
     "outputPrepend",
     "outputPrepend",
     "outputPrepend",
     "outputPrepend",
     "outputPrepend",
     "outputPrepend",
     "outputPrepend",
     "outputPrepend",
     "outputPrepend",
     "outputPrepend",
     "outputPrepend",
     "outputPrepend",
     "outputPrepend",
     "outputPrepend",
     "outputPrepend",
     "outputPrepend",
     "outputPrepend",
     "outputPrepend",
     "outputPrepend",
     "outputPrepend",
     "outputPrepend",
     "outputPrepend",
     "outputPrepend",
     "outputPrepend",
     "outputPrepend",
     "outputPrepend",
     "outputPrepend",
     "outputPrepend",
     "outputPrepend",
     "outputPrepend",
     "outputPrepend",
     "outputPrepend",
     "outputPrepend",
     "outputPrepend",
     "outputPrepend",
     "outputPrepend",
     "outputPrepend",
     "outputPrepend",
     "outputPrepend",
     "outputPrepend",
     "outputPrepend",
     "outputPrepend",
     "outputPrepend",
     "outputPrepend",
     "outputPrepend",
     "outputPrepend",
     "outputPrepend",
     "outputPrepend",
     "outputPrepend",
     "outputPrepend",
     "outputPrepend",
     "outputPrepend",
     "outputPrepend",
     "outputPrepend",
     "outputPrepend",
     "outputPrepend",
     "outputPrepend",
     "outputPrepend",
     "outputPrepend",
     "outputPrepend",
     "outputPrepend",
     "outputPrepend",
     "outputPrepend",
     "outputPrepend",
     "outputPrepend",
     "outputPrepend",
     "outputPrepend",
     "outputPrepend",
     "outputPrepend",
     "outputPrepend",
     "outputPrepend",
     "outputPrepend",
     "outputPrepend",
     "outputPrepend"
    ]
   },
   "outputs": [],
   "source": [
    "from sklearn.linear_model import PassiveAggressiveRegressor\n",
    "from sklearn.linear_model import HuberRegressor\n",
    "from sklearn.linear_model import SGDRegressor\n",
    "ml = HuberRegressor()\n",
    "test,ab = SHMI_PREDICTOR_SUPERVISED.make_future_prediction(ml,df,steps=6,n_lag=4)"
   ]
  },
  {
   "cell_type": "code",
   "execution_count": 69,
   "metadata": {},
   "outputs": [
    {
     "output_type": "execute_result",
     "data": {
      "text/plain": "(52, 52)"
     },
     "metadata": {},
     "execution_count": 69
    }
   ],
   "source": [
    "test['PREDICTOR'].nunique(),df['PREDICTOR'].nunique()"
   ]
  },
  {
   "cell_type": "code",
   "execution_count": 70,
   "metadata": {},
   "outputs": [
    {
     "output_type": "execute_result",
     "data": {
      "text/plain": "count    72591.000000\nmean        -0.714975\nstd          3.485565\nmin        -22.379100\n25%         -0.405400\n50%          0.000000\n75%          0.168000\nmax         22.067600\nName: PARAMETER_ESTIMATE, dtype: float64"
     },
     "metadata": {},
     "execution_count": 70
    }
   ],
   "source": [
    "df['PARAMETER_ESTIMATE'].astype(float).describe()"
   ]
  },
  {
   "cell_type": "code",
   "execution_count": 71,
   "metadata": {},
   "outputs": [
    {
     "output_type": "execute_result",
     "data": {
      "text/plain": "       PARAMETER_ESTIMATE\ncount        39630.000000\nmean            -0.730459\nstd              3.592557\nmin            -46.666371\n25%             -0.417646\n50%              0.000000\n75%              0.177506\nmax             60.204308",
      "text/html": "<div>\n<style scoped>\n    .dataframe tbody tr th:only-of-type {\n        vertical-align: middle;\n    }\n\n    .dataframe tbody tr th {\n        vertical-align: top;\n    }\n\n    .dataframe thead th {\n        text-align: right;\n    }\n</style>\n<table border=\"1\" class=\"dataframe\">\n  <thead>\n    <tr style=\"text-align: right;\">\n      <th></th>\n      <th>PARAMETER_ESTIMATE</th>\n    </tr>\n  </thead>\n  <tbody>\n    <tr>\n      <th>count</th>\n      <td>39630.000000</td>\n    </tr>\n    <tr>\n      <th>mean</th>\n      <td>-0.730459</td>\n    </tr>\n    <tr>\n      <th>std</th>\n      <td>3.592557</td>\n    </tr>\n    <tr>\n      <th>min</th>\n      <td>-46.666371</td>\n    </tr>\n    <tr>\n      <th>25%</th>\n      <td>-0.417646</td>\n    </tr>\n    <tr>\n      <th>50%</th>\n      <td>0.000000</td>\n    </tr>\n    <tr>\n      <th>75%</th>\n      <td>0.177506</td>\n    </tr>\n    <tr>\n      <th>max</th>\n      <td>60.204308</td>\n    </tr>\n  </tbody>\n</table>\n</div>"
     },
     "metadata": {},
     "execution_count": 71
    }
   ],
   "source": [
    "test.describe()"
   ]
  },
  {
   "cell_type": "code",
   "execution_count": 72,
   "metadata": {},
   "outputs": [
    {
     "output_type": "execute_result",
     "data": {
      "text/plain": "      INDICATOR_CODE DIAGNOSIS_GROUP    PREDICTOR  PARAMETER_ESTIMATE  \\\n24563         FUTURE             139  AGE_GROUP_3          -46.666371   \n\n      STANDARD_ERROR WALD_CHI_SQUARE WALD_DF WALD_P_VALUE PUBLISHED_DATE  \\\n24563         FUTURE          FUTURE  FUTURE       FUTURE       20200327   \n\n      SHMIPREDICTOR  \n24563  201905202004  ",
      "text/html": "<div>\n<style scoped>\n    .dataframe tbody tr th:only-of-type {\n        vertical-align: middle;\n    }\n\n    .dataframe tbody tr th {\n        vertical-align: top;\n    }\n\n    .dataframe thead th {\n        text-align: right;\n    }\n</style>\n<table border=\"1\" class=\"dataframe\">\n  <thead>\n    <tr style=\"text-align: right;\">\n      <th></th>\n      <th>INDICATOR_CODE</th>\n      <th>DIAGNOSIS_GROUP</th>\n      <th>PREDICTOR</th>\n      <th>PARAMETER_ESTIMATE</th>\n      <th>STANDARD_ERROR</th>\n      <th>WALD_CHI_SQUARE</th>\n      <th>WALD_DF</th>\n      <th>WALD_P_VALUE</th>\n      <th>PUBLISHED_DATE</th>\n      <th>SHMIPREDICTOR</th>\n    </tr>\n  </thead>\n  <tbody>\n    <tr>\n      <th>24563</th>\n      <td>FUTURE</td>\n      <td>139</td>\n      <td>AGE_GROUP_3</td>\n      <td>-46.666371</td>\n      <td>FUTURE</td>\n      <td>FUTURE</td>\n      <td>FUTURE</td>\n      <td>FUTURE</td>\n      <td>20200327</td>\n      <td>201905202004</td>\n    </tr>\n  </tbody>\n</table>\n</div>"
     },
     "metadata": {},
     "execution_count": 72
    }
   ],
   "source": [
    "test[test['PARAMETER_ESTIMATE']==test['PARAMETER_ESTIMATE'].min()]"
   ]
  },
  {
   "cell_type": "code",
   "execution_count": 73,
   "metadata": {},
   "outputs": [
    {
     "output_type": "execute_result",
     "data": {
      "text/plain": "      INDICATOR_CODE DIAGNOSIS_GROUP          PREDICTOR  PARAMETER_ESTIMATE  \\\n59396         I00699               1  ADMISSION_MONTH_1             -0.2517   \n52795         I00699               1  ADMISSION_MONTH_1             -0.1005   \n46194         I00699               1  ADMISSION_MONTH_1             -0.0261   \n39593         I00699               1  ADMISSION_MONTH_1             -0.0656   \n32994         I00699               1  ADMISSION_MONTH_1             -0.0437   \n26395         I00699               1  ADMISSION_MONTH_1              0.0700   \n19796         I00699               1  ADMISSION_MONTH_1              0.0772   \n13198         I00699               1  ADMISSION_MONTH_1              0.1615   \n6601          I00699               1  ADMISSION_MONTH_1              0.1570   \n3             I00699               1  ADMISSION_MONTH_1              0.0992   \n65997         I00699               1  ADMISSION_MONTH_1              0.0975   \n\n      STANDARD_ERROR WALD_CHI_SQUARE WALD_DF WALD_P_VALUE PUBLISHED_DATE  \\\n59396         0.3737          0.4537       1       0.5006       20190513   \n52795         0.3654          0.0757       1       0.7832       20190613   \n46194         0.3502          0.0055       1       0.9407       20190713   \n39593          0.354          0.0343       1        0.853       20190813   \n32994         0.3523          0.0154       1       0.9013       20190913   \n26395         0.3708          0.0357       1       0.8502       20191013   \n19796          0.371          0.0433       1       0.8352       20191113   \n13198         0.3672          0.1935       1         0.66       20191213   \n6601          0.3728          0.1774       1       0.6736       20200113   \n3             0.3674          0.0729       1       0.7871       20200213   \n65997         0.3658           0.071       1       0.7898       20200313   \n\n      SHMIPREDICTOR       Date  \n59396  201801201812 2019-05-13  \n52795  201802201901 2019-06-13  \n46194  201803201902 2019-07-13  \n39593  201804201903 2019-08-13  \n32994  201805201904 2019-09-13  \n26395  201806201905 2019-10-13  \n19796  201807201906 2019-11-13  \n13198  201808201907 2019-12-13  \n6601   201809201908 2020-01-13  \n3      201810201909 2020-02-13  \n65997  201811201910 2020-03-13  ",
      "text/html": "<div>\n<style scoped>\n    .dataframe tbody tr th:only-of-type {\n        vertical-align: middle;\n    }\n\n    .dataframe tbody tr th {\n        vertical-align: top;\n    }\n\n    .dataframe thead th {\n        text-align: right;\n    }\n</style>\n<table border=\"1\" class=\"dataframe\">\n  <thead>\n    <tr style=\"text-align: right;\">\n      <th></th>\n      <th>INDICATOR_CODE</th>\n      <th>DIAGNOSIS_GROUP</th>\n      <th>PREDICTOR</th>\n      <th>PARAMETER_ESTIMATE</th>\n      <th>STANDARD_ERROR</th>\n      <th>WALD_CHI_SQUARE</th>\n      <th>WALD_DF</th>\n      <th>WALD_P_VALUE</th>\n      <th>PUBLISHED_DATE</th>\n      <th>SHMIPREDICTOR</th>\n      <th>Date</th>\n    </tr>\n  </thead>\n  <tbody>\n    <tr>\n      <th>59396</th>\n      <td>I00699</td>\n      <td>1</td>\n      <td>ADMISSION_MONTH_1</td>\n      <td>-0.2517</td>\n      <td>0.3737</td>\n      <td>0.4537</td>\n      <td>1</td>\n      <td>0.5006</td>\n      <td>20190513</td>\n      <td>201801201812</td>\n      <td>2019-05-13</td>\n    </tr>\n    <tr>\n      <th>52795</th>\n      <td>I00699</td>\n      <td>1</td>\n      <td>ADMISSION_MONTH_1</td>\n      <td>-0.1005</td>\n      <td>0.3654</td>\n      <td>0.0757</td>\n      <td>1</td>\n      <td>0.7832</td>\n      <td>20190613</td>\n      <td>201802201901</td>\n      <td>2019-06-13</td>\n    </tr>\n    <tr>\n      <th>46194</th>\n      <td>I00699</td>\n      <td>1</td>\n      <td>ADMISSION_MONTH_1</td>\n      <td>-0.0261</td>\n      <td>0.3502</td>\n      <td>0.0055</td>\n      <td>1</td>\n      <td>0.9407</td>\n      <td>20190713</td>\n      <td>201803201902</td>\n      <td>2019-07-13</td>\n    </tr>\n    <tr>\n      <th>39593</th>\n      <td>I00699</td>\n      <td>1</td>\n      <td>ADMISSION_MONTH_1</td>\n      <td>-0.0656</td>\n      <td>0.354</td>\n      <td>0.0343</td>\n      <td>1</td>\n      <td>0.853</td>\n      <td>20190813</td>\n      <td>201804201903</td>\n      <td>2019-08-13</td>\n    </tr>\n    <tr>\n      <th>32994</th>\n      <td>I00699</td>\n      <td>1</td>\n      <td>ADMISSION_MONTH_1</td>\n      <td>-0.0437</td>\n      <td>0.3523</td>\n      <td>0.0154</td>\n      <td>1</td>\n      <td>0.9013</td>\n      <td>20190913</td>\n      <td>201805201904</td>\n      <td>2019-09-13</td>\n    </tr>\n    <tr>\n      <th>26395</th>\n      <td>I00699</td>\n      <td>1</td>\n      <td>ADMISSION_MONTH_1</td>\n      <td>0.0700</td>\n      <td>0.3708</td>\n      <td>0.0357</td>\n      <td>1</td>\n      <td>0.8502</td>\n      <td>20191013</td>\n      <td>201806201905</td>\n      <td>2019-10-13</td>\n    </tr>\n    <tr>\n      <th>19796</th>\n      <td>I00699</td>\n      <td>1</td>\n      <td>ADMISSION_MONTH_1</td>\n      <td>0.0772</td>\n      <td>0.371</td>\n      <td>0.0433</td>\n      <td>1</td>\n      <td>0.8352</td>\n      <td>20191113</td>\n      <td>201807201906</td>\n      <td>2019-11-13</td>\n    </tr>\n    <tr>\n      <th>13198</th>\n      <td>I00699</td>\n      <td>1</td>\n      <td>ADMISSION_MONTH_1</td>\n      <td>0.1615</td>\n      <td>0.3672</td>\n      <td>0.1935</td>\n      <td>1</td>\n      <td>0.66</td>\n      <td>20191213</td>\n      <td>201808201907</td>\n      <td>2019-12-13</td>\n    </tr>\n    <tr>\n      <th>6601</th>\n      <td>I00699</td>\n      <td>1</td>\n      <td>ADMISSION_MONTH_1</td>\n      <td>0.1570</td>\n      <td>0.3728</td>\n      <td>0.1774</td>\n      <td>1</td>\n      <td>0.6736</td>\n      <td>20200113</td>\n      <td>201809201908</td>\n      <td>2020-01-13</td>\n    </tr>\n    <tr>\n      <th>3</th>\n      <td>I00699</td>\n      <td>1</td>\n      <td>ADMISSION_MONTH_1</td>\n      <td>0.0992</td>\n      <td>0.3674</td>\n      <td>0.0729</td>\n      <td>1</td>\n      <td>0.7871</td>\n      <td>20200213</td>\n      <td>201810201909</td>\n      <td>2020-02-13</td>\n    </tr>\n    <tr>\n      <th>65997</th>\n      <td>I00699</td>\n      <td>1</td>\n      <td>ADMISSION_MONTH_1</td>\n      <td>0.0975</td>\n      <td>0.3658</td>\n      <td>0.071</td>\n      <td>1</td>\n      <td>0.7898</td>\n      <td>20200313</td>\n      <td>201811201910</td>\n      <td>2020-03-13</td>\n    </tr>\n  </tbody>\n</table>\n</div>"
     },
     "metadata": {},
     "execution_count": 73
    }
   ],
   "source": [
    "predictor = 'ADMISSION_MONTH_1'\n",
    "diagnosis_group = '1'\n",
    "df.loc[(df.loc[:,'PREDICTOR']==predictor)&(df.loc[:,'DIAGNOSIS_GROUP']==diagnosis_group),:]"
   ]
  },
  {
   "cell_type": "code",
   "execution_count": 74,
   "metadata": {},
   "outputs": [
    {
     "output_type": "execute_result",
     "data": {
      "text/plain": "     INDICATOR_CODE DIAGNOSIS_GROUP          PREDICTOR  PARAMETER_ESTIMATE  \\\n2556         FUTURE               1  ADMISSION_MONTH_1            0.119537   \n2557         FUTURE               1  ADMISSION_MONTH_1            0.108831   \n2558         FUTURE               1  ADMISSION_MONTH_1            0.091427   \n2559         FUTURE               1  ADMISSION_MONTH_1            0.094831   \n2560         FUTURE               1  ADMISSION_MONTH_1            0.100092   \n2561         FUTURE               1  ADMISSION_MONTH_1            0.094292   \n\n     STANDARD_ERROR WALD_CHI_SQUARE WALD_DF WALD_P_VALUE PUBLISHED_DATE  \\\n2556         FUTURE          FUTURE  FUTURE       FUTURE       20200327   \n2557         FUTURE          FUTURE  FUTURE       FUTURE       20200327   \n2558         FUTURE          FUTURE  FUTURE       FUTURE       20200327   \n2559         FUTURE          FUTURE  FUTURE       FUTURE       20200327   \n2560         FUTURE          FUTURE  FUTURE       FUTURE       20200327   \n2561         FUTURE          FUTURE  FUTURE       FUTURE       20200327   \n\n     SHMIPREDICTOR  \n2556  201812201911  \n2557  201901201912  \n2558  201902202001  \n2559  201903202002  \n2560  201904202003  \n2561  201905202004  ",
      "text/html": "<div>\n<style scoped>\n    .dataframe tbody tr th:only-of-type {\n        vertical-align: middle;\n    }\n\n    .dataframe tbody tr th {\n        vertical-align: top;\n    }\n\n    .dataframe thead th {\n        text-align: right;\n    }\n</style>\n<table border=\"1\" class=\"dataframe\">\n  <thead>\n    <tr style=\"text-align: right;\">\n      <th></th>\n      <th>INDICATOR_CODE</th>\n      <th>DIAGNOSIS_GROUP</th>\n      <th>PREDICTOR</th>\n      <th>PARAMETER_ESTIMATE</th>\n      <th>STANDARD_ERROR</th>\n      <th>WALD_CHI_SQUARE</th>\n      <th>WALD_DF</th>\n      <th>WALD_P_VALUE</th>\n      <th>PUBLISHED_DATE</th>\n      <th>SHMIPREDICTOR</th>\n    </tr>\n  </thead>\n  <tbody>\n    <tr>\n      <th>2556</th>\n      <td>FUTURE</td>\n      <td>1</td>\n      <td>ADMISSION_MONTH_1</td>\n      <td>0.119537</td>\n      <td>FUTURE</td>\n      <td>FUTURE</td>\n      <td>FUTURE</td>\n      <td>FUTURE</td>\n      <td>20200327</td>\n      <td>201812201911</td>\n    </tr>\n    <tr>\n      <th>2557</th>\n      <td>FUTURE</td>\n      <td>1</td>\n      <td>ADMISSION_MONTH_1</td>\n      <td>0.108831</td>\n      <td>FUTURE</td>\n      <td>FUTURE</td>\n      <td>FUTURE</td>\n      <td>FUTURE</td>\n      <td>20200327</td>\n      <td>201901201912</td>\n    </tr>\n    <tr>\n      <th>2558</th>\n      <td>FUTURE</td>\n      <td>1</td>\n      <td>ADMISSION_MONTH_1</td>\n      <td>0.091427</td>\n      <td>FUTURE</td>\n      <td>FUTURE</td>\n      <td>FUTURE</td>\n      <td>FUTURE</td>\n      <td>20200327</td>\n      <td>201902202001</td>\n    </tr>\n    <tr>\n      <th>2559</th>\n      <td>FUTURE</td>\n      <td>1</td>\n      <td>ADMISSION_MONTH_1</td>\n      <td>0.094831</td>\n      <td>FUTURE</td>\n      <td>FUTURE</td>\n      <td>FUTURE</td>\n      <td>FUTURE</td>\n      <td>20200327</td>\n      <td>201903202002</td>\n    </tr>\n    <tr>\n      <th>2560</th>\n      <td>FUTURE</td>\n      <td>1</td>\n      <td>ADMISSION_MONTH_1</td>\n      <td>0.100092</td>\n      <td>FUTURE</td>\n      <td>FUTURE</td>\n      <td>FUTURE</td>\n      <td>FUTURE</td>\n      <td>20200327</td>\n      <td>201904202003</td>\n    </tr>\n    <tr>\n      <th>2561</th>\n      <td>FUTURE</td>\n      <td>1</td>\n      <td>ADMISSION_MONTH_1</td>\n      <td>0.094292</td>\n      <td>FUTURE</td>\n      <td>FUTURE</td>\n      <td>FUTURE</td>\n      <td>FUTURE</td>\n      <td>20200327</td>\n      <td>201905202004</td>\n    </tr>\n  </tbody>\n</table>\n</div>"
     },
     "metadata": {},
     "execution_count": 74
    }
   ],
   "source": [
    "test.loc[(test.loc[:,'PREDICTOR']==predictor)&(test.loc[:,'DIAGNOSIS_GROUP']==diagnosis_group),:]"
   ]
  },
  {
   "cell_type": "code",
   "execution_count": 75,
   "metadata": {},
   "outputs": [],
   "source": [
    "test.to_csv('test.csv',index=False)"
   ]
  },
  {
   "cell_type": "code",
   "execution_count": 24,
   "metadata": {},
   "outputs": [
    {
     "output_type": "execute_result",
     "data": {
      "text/plain": "            Date SHIMIPREDICTOR     Predictor Diagnosis_Group  \\\n0     2020-04-13   201812201911    ADMIMETH_1             126   \n1     2020-05-13   201901201912    ADMIMETH_1             126   \n2     2020-06-13   201902202001    ADMIMETH_1             126   \n3     2020-07-13   201903202002    ADMIMETH_1             126   \n4     2020-08-13   201904202003    ADMIMETH_1             126   \n5     2020-09-13   201905202004    ADMIMETH_1             126   \n6     2020-04-13   201812201911    ADMIMETH_1             132   \n7     2020-05-13   201901201912    ADMIMETH_1             132   \n8     2020-04-13   201812201911    ADMIMETH_1             137   \n9     2020-05-13   201901201912    ADMIMETH_1             137   \n10    2020-06-13   201902202001    ADMIMETH_1             137   \n11    2020-07-13   201903202002    ADMIMETH_1             137   \n12    2020-08-13   201904202003    ADMIMETH_1             137   \n13    2020-09-13   201905202004    ADMIMETH_1             137   \n14    2020-04-13   201812201911    ADMIMETH_1             139   \n15    2020-05-13   201901201912    ADMIMETH_1             139   \n16    2020-06-13   201902202001    ADMIMETH_1             139   \n17    2020-04-13   201812201911    ADMIMETH_1             141   \n18    2020-05-13   201901201912    ADMIMETH_1             141   \n19    2020-06-13   201902202001    ADMIMETH_1             141   \n20    2020-07-13   201903202002    ADMIMETH_1             141   \n21    2020-08-13   201904202003    ADMIMETH_1             141   \n22    2020-09-13   201905202004    ADMIMETH_1             141   \n23    2020-04-13   201812201911    ADMIMETH_1               3   \n24    2020-05-13   201901201912    ADMIMETH_1               3   \n25    2020-06-13   201902202001    ADMIMETH_1               3   \n26    2020-07-13   201903202002    ADMIMETH_1               3   \n27    2020-08-13   201904202003    ADMIMETH_1               3   \n28    2020-09-13   201905202004    ADMIMETH_1               3   \n29    2020-04-13   201812201911    ADMIMETH_1              34   \n...          ...            ...           ...             ...   \n13861 2020-07-13   201903202002  YEAR_INDEX_3              93   \n13862 2020-08-13   201904202003  YEAR_INDEX_3              93   \n13863 2020-09-13   201905202004  YEAR_INDEX_3              93   \n13864 2020-04-13   201812201911  YEAR_INDEX_3              94   \n13865 2020-05-13   201901201912  YEAR_INDEX_3              94   \n13866 2020-06-13   201902202001  YEAR_INDEX_3              94   \n13867 2020-04-13   201812201911  YEAR_INDEX_3              95   \n13868 2020-04-13   201812201911  YEAR_INDEX_3              96   \n13869 2020-05-13   201901201912  YEAR_INDEX_3              96   \n13870 2020-06-13   201902202001  YEAR_INDEX_3              96   \n13871 2020-07-13   201903202002  YEAR_INDEX_3              96   \n13872 2020-08-13   201904202003  YEAR_INDEX_3              96   \n13873 2020-09-13   201905202004  YEAR_INDEX_3              96   \n13874 2020-04-13   201812201911  YEAR_INDEX_3              97   \n13875 2020-05-13   201901201912  YEAR_INDEX_3              97   \n13876 2020-06-13   201902202001  YEAR_INDEX_3              97   \n13877 2020-07-13   201903202002  YEAR_INDEX_3              97   \n13878 2020-08-13   201904202003  YEAR_INDEX_3              97   \n13879 2020-04-13   201812201911  YEAR_INDEX_3              98   \n13880 2020-05-13   201901201912  YEAR_INDEX_3              98   \n13881 2020-06-13   201902202001  YEAR_INDEX_3              98   \n13882 2020-07-13   201903202002  YEAR_INDEX_3              98   \n13883 2020-08-13   201904202003  YEAR_INDEX_3              98   \n13884 2020-09-13   201905202004  YEAR_INDEX_3              98   \n13885 2020-04-13   201812201911  YEAR_INDEX_3              99   \n13886 2020-05-13   201901201912  YEAR_INDEX_3              99   \n13887 2020-06-13   201902202001  YEAR_INDEX_3              99   \n13888 2020-07-13   201903202002  YEAR_INDEX_3              99   \n13889 2020-08-13   201904202003  YEAR_INDEX_3              99   \n13890 2020-09-13   201905202004  YEAR_INDEX_3              99   \n\n                     PRED_DIFF Average_Diff                 New_Pred  \\\n0                   [0.076375]     0.076375  [-0.031024999999999997]   \n1        [0.10554000000000001]      0.10554    [0.07451500000000001]   \n2        [0.10067916666666664]     0.100679    [0.17519416666666665]   \n3         [0.1013735714285714]     0.101374    [0.27656773809523805]   \n4        [0.10128677083333332]     0.101287    [0.37785450892857136]   \n5        [0.10129641534391537]     0.101296    [0.47915092427248673]   \n6       [0.029799999999999993]      -0.0298    [0.40650000000000003]   \n7       [0.029799999999999993]      -0.0298    [0.37670000000000003]   \n8       [0.008666666666666656]   0.00866667   [-0.16973333333333335]   \n9       [0.008666666666666656]   0.00866667    [-0.1610666666666667]   \n10      [0.008666666666666656]   0.00866667   [-0.15240000000000004]   \n11      [0.008666666666666656]   0.00866667   [-0.14373333333333338]   \n12      [0.008666666666666656]   0.00866667   [-0.13506666666666672]   \n13      [0.008666666666666656]   0.00866667   [-0.12640000000000007]   \n14       [0.00216666666666665]  -0.00216667   [-0.15226666666666666]   \n15       [0.00216666666666665]  -0.00216667    [-0.1544333333333333]   \n16       [0.00216666666666665]  -0.00216667   [-0.15659999999999996]   \n17     [0.0022500000000000853]     -0.00225              [-10.74075]   \n18     [0.0022500000000000853]     -0.00225                [-10.743]   \n19     [0.0022500000000000853]     -0.00225              [-10.74525]   \n20     [0.0022500000000000853]     -0.00225               [-10.7475]   \n21     [0.0022500000000000853]     -0.00225              [-10.74975]   \n22     [0.0022500000000000853]     -0.00225                [-10.752]   \n23       [0.03843333333333335]   -0.0384333   [-0.23893333333333336]   \n24       [0.03162000000000001]     -0.03162   [-0.27055333333333337]   \n25       [0.03275555555555554]   -0.0327556    [-0.3033088888888889]   \n26       [0.03259333333333336]   -0.0325933   [-0.33590222222222227]   \n27       [0.03261361111111111]   -0.0326136    [-0.3685158333333334]   \n28      [0.032611358024691395]   -0.0326114   [-0.40112719135802477]   \n29       [0.06369999999999998]      -0.0637                [-0.5586]   \n...                        ...          ...                      ...   \n13861   [0.008602777777777779]  -0.00860278    [0.07044722222222224]   \n13862   [0.008592857142857138]  -0.00859286   [0.061854365079365106]   \n13863   [0.008594097222222222]   -0.0085941   [0.053260267857142884]   \n13864   [0.006699999999999998]      -0.0067                 [0.0413]   \n13865   [0.007120000000000001]     -0.00712                [0.03418]   \n13866   [0.007049999999999997]     -0.00705   [0.027130000000000005]   \n13867   [0.027700000000000002]      -0.0277                 [0.0269]   \n13868   [0.006775000000000003]     0.006775               [0.162775]   \n13869   [0.006440000000000001]      0.00644               [0.169215]   \n13870  [0.0064958333333333396]   0.00649583    [0.17571083333333334]   \n13871   [0.006487857142857156]   0.00648786     [0.1821986904761905]   \n13872   [0.006488854166666669]   0.00648885    [0.18868754464285717]   \n13873    [0.00648874338624339]   0.00648874    [0.19517628802910056]   \n13874    [0.02177499999999999]     0.021775               [0.353475]   \n13875                [0.02126]      0.02126               [0.374735]   \n13876    [0.02134583333333334]    0.0213458     [0.3960808333333333]   \n13877    [0.02133357142857145]    0.0213336     [0.4174144047619048]   \n13878   [0.021335104166666674]    0.0213351    [0.43874950892857145]   \n13879   [0.003049999999999997]      0.00305                [0.13255]   \n13880   [0.003049999999999997]      0.00305                 [0.1356]   \n13881   [0.003049999999999997]      0.00305                [0.13865]   \n13882   [0.003049999999999997]      0.00305                 [0.1417]   \n13883   [0.003049999999999997]      0.00305                [0.14475]   \n13884   [0.003049999999999997]      0.00305                 [0.1478]   \n13885  [0.0034500000000000086]     -0.00345                [0.12075]   \n13886  [0.0034500000000000086]     -0.00345    [0.11729999999999999]   \n13887  [0.0034500000000000086]     -0.00345    [0.11384999999999998]   \n13888  [0.0034500000000000086]     -0.00345    [0.11039999999999997]   \n13889   [0.001964285714285724]  -0.00196429    [0.10843571428571425]   \n13890   [0.002149999999999999]     -0.00215    [0.10628571428571425]   \n\n                   Pre_Predict  \n0       [-0.24001345665087306]  \n1       [-0.19223591778283852]  \n2       [-0.14535107234201106]  \n3        [-0.0976868617074271]  \n4      [-0.055810663416984846]  \n5        [-0.0112957978037284]  \n6        [0.16792447725822393]  \n7         [0.1980100696219181]  \n8       [-0.03065773726135803]  \n9      [-0.037860632003956264]  \n10      [-0.04138113934848701]  \n11      [-0.04410450891498756]  \n12     [-0.046820666103765854]  \n13      [-0.04880384258045853]  \n14      [-0.07019082068693022]  \n15      [-0.07327400092172434]  \n16      [-0.07640986447226397]  \n17        [3012231.2187446062]  \n18         [731905.9486221435]  \n19        [117349.24621165235]  \n20         [9836.645128223989]  \n21         [1085.198312154143]  \n22        [2042.2750973418206]  \n23      [-0.02386242320066867]  \n24     [-0.030653890441281334]  \n25      [-0.04162367249411953]  \n26      [-0.05505890789402339]  \n27      [-0.07147134811404397]  \n28      [-0.09628443330992789]  \n29       [-0.1985695127865374]  \n...                        ...  \n13861    [0.02888749899165802]  \n13862   [0.029525340663354795]  \n13863   [0.029930120752061973]  \n13864   [0.013209068638461328]  \n13865   [0.013874757048091971]  \n13866   [0.014215029249817265]  \n13867    [0.01921370956558892]  \n13868    [0.02702405658239994]  \n13869   [0.030588607545609693]  \n13870   [0.034280631377681385]  \n13871    [0.04186128598932734]  \n13872    [0.04584399536953865]  \n13873    [0.04974961448371459]  \n13874    [0.10327220118151922]  \n13875     [0.1301491228182757]  \n13876    [0.15343141506976427]  \n13877     [0.1786905890565359]  \n13878    [0.19885895190378017]  \n13879   [0.029480900190388962]  \n13880    [0.03194025211120214]  \n13881    [0.03801407872867543]  \n13882    [0.04054585679581344]  \n13883    [0.04318509804151487]  \n13884   [0.045777805006582156]  \n13885   [0.025114677753742758]  \n13886   [0.027437053593456967]  \n13887   [0.029512270087043352]  \n13888    [0.03133514730968826]  \n13889    [0.03298255209103086]  \n13890    [0.03457451634307068]  \n\n[13891 rows x 8 columns]",
      "text/html": "<div>\n<style scoped>\n    .dataframe tbody tr th:only-of-type {\n        vertical-align: middle;\n    }\n\n    .dataframe tbody tr th {\n        vertical-align: top;\n    }\n\n    .dataframe thead th {\n        text-align: right;\n    }\n</style>\n<table border=\"1\" class=\"dataframe\">\n  <thead>\n    <tr style=\"text-align: right;\">\n      <th></th>\n      <th>Date</th>\n      <th>SHIMIPREDICTOR</th>\n      <th>Predictor</th>\n      <th>Diagnosis_Group</th>\n      <th>PRED_DIFF</th>\n      <th>Average_Diff</th>\n      <th>New_Pred</th>\n      <th>Pre_Predict</th>\n    </tr>\n  </thead>\n  <tbody>\n    <tr>\n      <th>0</th>\n      <td>2020-04-13</td>\n      <td>201812201911</td>\n      <td>ADMIMETH_1</td>\n      <td>126</td>\n      <td>[0.076375]</td>\n      <td>0.076375</td>\n      <td>[-0.031024999999999997]</td>\n      <td>[-0.24001345665087306]</td>\n    </tr>\n    <tr>\n      <th>1</th>\n      <td>2020-05-13</td>\n      <td>201901201912</td>\n      <td>ADMIMETH_1</td>\n      <td>126</td>\n      <td>[0.10554000000000001]</td>\n      <td>0.10554</td>\n      <td>[0.07451500000000001]</td>\n      <td>[-0.19223591778283852]</td>\n    </tr>\n    <tr>\n      <th>2</th>\n      <td>2020-06-13</td>\n      <td>201902202001</td>\n      <td>ADMIMETH_1</td>\n      <td>126</td>\n      <td>[0.10067916666666664]</td>\n      <td>0.100679</td>\n      <td>[0.17519416666666665]</td>\n      <td>[-0.14535107234201106]</td>\n    </tr>\n    <tr>\n      <th>3</th>\n      <td>2020-07-13</td>\n      <td>201903202002</td>\n      <td>ADMIMETH_1</td>\n      <td>126</td>\n      <td>[0.1013735714285714]</td>\n      <td>0.101374</td>\n      <td>[0.27656773809523805]</td>\n      <td>[-0.0976868617074271]</td>\n    </tr>\n    <tr>\n      <th>4</th>\n      <td>2020-08-13</td>\n      <td>201904202003</td>\n      <td>ADMIMETH_1</td>\n      <td>126</td>\n      <td>[0.10128677083333332]</td>\n      <td>0.101287</td>\n      <td>[0.37785450892857136]</td>\n      <td>[-0.055810663416984846]</td>\n    </tr>\n    <tr>\n      <th>5</th>\n      <td>2020-09-13</td>\n      <td>201905202004</td>\n      <td>ADMIMETH_1</td>\n      <td>126</td>\n      <td>[0.10129641534391537]</td>\n      <td>0.101296</td>\n      <td>[0.47915092427248673]</td>\n      <td>[-0.0112957978037284]</td>\n    </tr>\n    <tr>\n      <th>6</th>\n      <td>2020-04-13</td>\n      <td>201812201911</td>\n      <td>ADMIMETH_1</td>\n      <td>132</td>\n      <td>[0.029799999999999993]</td>\n      <td>-0.0298</td>\n      <td>[0.40650000000000003]</td>\n      <td>[0.16792447725822393]</td>\n    </tr>\n    <tr>\n      <th>7</th>\n      <td>2020-05-13</td>\n      <td>201901201912</td>\n      <td>ADMIMETH_1</td>\n      <td>132</td>\n      <td>[0.029799999999999993]</td>\n      <td>-0.0298</td>\n      <td>[0.37670000000000003]</td>\n      <td>[0.1980100696219181]</td>\n    </tr>\n    <tr>\n      <th>8</th>\n      <td>2020-04-13</td>\n      <td>201812201911</td>\n      <td>ADMIMETH_1</td>\n      <td>137</td>\n      <td>[0.008666666666666656]</td>\n      <td>0.00866667</td>\n      <td>[-0.16973333333333335]</td>\n      <td>[-0.03065773726135803]</td>\n    </tr>\n    <tr>\n      <th>9</th>\n      <td>2020-05-13</td>\n      <td>201901201912</td>\n      <td>ADMIMETH_1</td>\n      <td>137</td>\n      <td>[0.008666666666666656]</td>\n      <td>0.00866667</td>\n      <td>[-0.1610666666666667]</td>\n      <td>[-0.037860632003956264]</td>\n    </tr>\n    <tr>\n      <th>10</th>\n      <td>2020-06-13</td>\n      <td>201902202001</td>\n      <td>ADMIMETH_1</td>\n      <td>137</td>\n      <td>[0.008666666666666656]</td>\n      <td>0.00866667</td>\n      <td>[-0.15240000000000004]</td>\n      <td>[-0.04138113934848701]</td>\n    </tr>\n    <tr>\n      <th>11</th>\n      <td>2020-07-13</td>\n      <td>201903202002</td>\n      <td>ADMIMETH_1</td>\n      <td>137</td>\n      <td>[0.008666666666666656]</td>\n      <td>0.00866667</td>\n      <td>[-0.14373333333333338]</td>\n      <td>[-0.04410450891498756]</td>\n    </tr>\n    <tr>\n      <th>12</th>\n      <td>2020-08-13</td>\n      <td>201904202003</td>\n      <td>ADMIMETH_1</td>\n      <td>137</td>\n      <td>[0.008666666666666656]</td>\n      <td>0.00866667</td>\n      <td>[-0.13506666666666672]</td>\n      <td>[-0.046820666103765854]</td>\n    </tr>\n    <tr>\n      <th>13</th>\n      <td>2020-09-13</td>\n      <td>201905202004</td>\n      <td>ADMIMETH_1</td>\n      <td>137</td>\n      <td>[0.008666666666666656]</td>\n      <td>0.00866667</td>\n      <td>[-0.12640000000000007]</td>\n      <td>[-0.04880384258045853]</td>\n    </tr>\n    <tr>\n      <th>14</th>\n      <td>2020-04-13</td>\n      <td>201812201911</td>\n      <td>ADMIMETH_1</td>\n      <td>139</td>\n      <td>[0.00216666666666665]</td>\n      <td>-0.00216667</td>\n      <td>[-0.15226666666666666]</td>\n      <td>[-0.07019082068693022]</td>\n    </tr>\n    <tr>\n      <th>15</th>\n      <td>2020-05-13</td>\n      <td>201901201912</td>\n      <td>ADMIMETH_1</td>\n      <td>139</td>\n      <td>[0.00216666666666665]</td>\n      <td>-0.00216667</td>\n      <td>[-0.1544333333333333]</td>\n      <td>[-0.07327400092172434]</td>\n    </tr>\n    <tr>\n      <th>16</th>\n      <td>2020-06-13</td>\n      <td>201902202001</td>\n      <td>ADMIMETH_1</td>\n      <td>139</td>\n      <td>[0.00216666666666665]</td>\n      <td>-0.00216667</td>\n      <td>[-0.15659999999999996]</td>\n      <td>[-0.07640986447226397]</td>\n    </tr>\n    <tr>\n      <th>17</th>\n      <td>2020-04-13</td>\n      <td>201812201911</td>\n      <td>ADMIMETH_1</td>\n      <td>141</td>\n      <td>[0.0022500000000000853]</td>\n      <td>-0.00225</td>\n      <td>[-10.74075]</td>\n      <td>[3012231.2187446062]</td>\n    </tr>\n    <tr>\n      <th>18</th>\n      <td>2020-05-13</td>\n      <td>201901201912</td>\n      <td>ADMIMETH_1</td>\n      <td>141</td>\n      <td>[0.0022500000000000853]</td>\n      <td>-0.00225</td>\n      <td>[-10.743]</td>\n      <td>[731905.9486221435]</td>\n    </tr>\n    <tr>\n      <th>19</th>\n      <td>2020-06-13</td>\n      <td>201902202001</td>\n      <td>ADMIMETH_1</td>\n      <td>141</td>\n      <td>[0.0022500000000000853]</td>\n      <td>-0.00225</td>\n      <td>[-10.74525]</td>\n      <td>[117349.24621165235]</td>\n    </tr>\n    <tr>\n      <th>20</th>\n      <td>2020-07-13</td>\n      <td>201903202002</td>\n      <td>ADMIMETH_1</td>\n      <td>141</td>\n      <td>[0.0022500000000000853]</td>\n      <td>-0.00225</td>\n      <td>[-10.7475]</td>\n      <td>[9836.645128223989]</td>\n    </tr>\n    <tr>\n      <th>21</th>\n      <td>2020-08-13</td>\n      <td>201904202003</td>\n      <td>ADMIMETH_1</td>\n      <td>141</td>\n      <td>[0.0022500000000000853]</td>\n      <td>-0.00225</td>\n      <td>[-10.74975]</td>\n      <td>[1085.198312154143]</td>\n    </tr>\n    <tr>\n      <th>22</th>\n      <td>2020-09-13</td>\n      <td>201905202004</td>\n      <td>ADMIMETH_1</td>\n      <td>141</td>\n      <td>[0.0022500000000000853]</td>\n      <td>-0.00225</td>\n      <td>[-10.752]</td>\n      <td>[2042.2750973418206]</td>\n    </tr>\n    <tr>\n      <th>23</th>\n      <td>2020-04-13</td>\n      <td>201812201911</td>\n      <td>ADMIMETH_1</td>\n      <td>3</td>\n      <td>[0.03843333333333335]</td>\n      <td>-0.0384333</td>\n      <td>[-0.23893333333333336]</td>\n      <td>[-0.02386242320066867]</td>\n    </tr>\n    <tr>\n      <th>24</th>\n      <td>2020-05-13</td>\n      <td>201901201912</td>\n      <td>ADMIMETH_1</td>\n      <td>3</td>\n      <td>[0.03162000000000001]</td>\n      <td>-0.03162</td>\n      <td>[-0.27055333333333337]</td>\n      <td>[-0.030653890441281334]</td>\n    </tr>\n    <tr>\n      <th>25</th>\n      <td>2020-06-13</td>\n      <td>201902202001</td>\n      <td>ADMIMETH_1</td>\n      <td>3</td>\n      <td>[0.03275555555555554]</td>\n      <td>-0.0327556</td>\n      <td>[-0.3033088888888889]</td>\n      <td>[-0.04162367249411953]</td>\n    </tr>\n    <tr>\n      <th>26</th>\n      <td>2020-07-13</td>\n      <td>201903202002</td>\n      <td>ADMIMETH_1</td>\n      <td>3</td>\n      <td>[0.03259333333333336]</td>\n      <td>-0.0325933</td>\n      <td>[-0.33590222222222227]</td>\n      <td>[-0.05505890789402339]</td>\n    </tr>\n    <tr>\n      <th>27</th>\n      <td>2020-08-13</td>\n      <td>201904202003</td>\n      <td>ADMIMETH_1</td>\n      <td>3</td>\n      <td>[0.03261361111111111]</td>\n      <td>-0.0326136</td>\n      <td>[-0.3685158333333334]</td>\n      <td>[-0.07147134811404397]</td>\n    </tr>\n    <tr>\n      <th>28</th>\n      <td>2020-09-13</td>\n      <td>201905202004</td>\n      <td>ADMIMETH_1</td>\n      <td>3</td>\n      <td>[0.032611358024691395]</td>\n      <td>-0.0326114</td>\n      <td>[-0.40112719135802477]</td>\n      <td>[-0.09628443330992789]</td>\n    </tr>\n    <tr>\n      <th>29</th>\n      <td>2020-04-13</td>\n      <td>201812201911</td>\n      <td>ADMIMETH_1</td>\n      <td>34</td>\n      <td>[0.06369999999999998]</td>\n      <td>-0.0637</td>\n      <td>[-0.5586]</td>\n      <td>[-0.1985695127865374]</td>\n    </tr>\n    <tr>\n      <th>...</th>\n      <td>...</td>\n      <td>...</td>\n      <td>...</td>\n      <td>...</td>\n      <td>...</td>\n      <td>...</td>\n      <td>...</td>\n      <td>...</td>\n    </tr>\n    <tr>\n      <th>13861</th>\n      <td>2020-07-13</td>\n      <td>201903202002</td>\n      <td>YEAR_INDEX_3</td>\n      <td>93</td>\n      <td>[0.008602777777777779]</td>\n      <td>-0.00860278</td>\n      <td>[0.07044722222222224]</td>\n      <td>[0.02888749899165802]</td>\n    </tr>\n    <tr>\n      <th>13862</th>\n      <td>2020-08-13</td>\n      <td>201904202003</td>\n      <td>YEAR_INDEX_3</td>\n      <td>93</td>\n      <td>[0.008592857142857138]</td>\n      <td>-0.00859286</td>\n      <td>[0.061854365079365106]</td>\n      <td>[0.029525340663354795]</td>\n    </tr>\n    <tr>\n      <th>13863</th>\n      <td>2020-09-13</td>\n      <td>201905202004</td>\n      <td>YEAR_INDEX_3</td>\n      <td>93</td>\n      <td>[0.008594097222222222]</td>\n      <td>-0.0085941</td>\n      <td>[0.053260267857142884]</td>\n      <td>[0.029930120752061973]</td>\n    </tr>\n    <tr>\n      <th>13864</th>\n      <td>2020-04-13</td>\n      <td>201812201911</td>\n      <td>YEAR_INDEX_3</td>\n      <td>94</td>\n      <td>[0.006699999999999998]</td>\n      <td>-0.0067</td>\n      <td>[0.0413]</td>\n      <td>[0.013209068638461328]</td>\n    </tr>\n    <tr>\n      <th>13865</th>\n      <td>2020-05-13</td>\n      <td>201901201912</td>\n      <td>YEAR_INDEX_3</td>\n      <td>94</td>\n      <td>[0.007120000000000001]</td>\n      <td>-0.00712</td>\n      <td>[0.03418]</td>\n      <td>[0.013874757048091971]</td>\n    </tr>\n    <tr>\n      <th>13866</th>\n      <td>2020-06-13</td>\n      <td>201902202001</td>\n      <td>YEAR_INDEX_3</td>\n      <td>94</td>\n      <td>[0.007049999999999997]</td>\n      <td>-0.00705</td>\n      <td>[0.027130000000000005]</td>\n      <td>[0.014215029249817265]</td>\n    </tr>\n    <tr>\n      <th>13867</th>\n      <td>2020-04-13</td>\n      <td>201812201911</td>\n      <td>YEAR_INDEX_3</td>\n      <td>95</td>\n      <td>[0.027700000000000002]</td>\n      <td>-0.0277</td>\n      <td>[0.0269]</td>\n      <td>[0.01921370956558892]</td>\n    </tr>\n    <tr>\n      <th>13868</th>\n      <td>2020-04-13</td>\n      <td>201812201911</td>\n      <td>YEAR_INDEX_3</td>\n      <td>96</td>\n      <td>[0.006775000000000003]</td>\n      <td>0.006775</td>\n      <td>[0.162775]</td>\n      <td>[0.02702405658239994]</td>\n    </tr>\n    <tr>\n      <th>13869</th>\n      <td>2020-05-13</td>\n      <td>201901201912</td>\n      <td>YEAR_INDEX_3</td>\n      <td>96</td>\n      <td>[0.006440000000000001]</td>\n      <td>0.00644</td>\n      <td>[0.169215]</td>\n      <td>[0.030588607545609693]</td>\n    </tr>\n    <tr>\n      <th>13870</th>\n      <td>2020-06-13</td>\n      <td>201902202001</td>\n      <td>YEAR_INDEX_3</td>\n      <td>96</td>\n      <td>[0.0064958333333333396]</td>\n      <td>0.00649583</td>\n      <td>[0.17571083333333334]</td>\n      <td>[0.034280631377681385]</td>\n    </tr>\n    <tr>\n      <th>13871</th>\n      <td>2020-07-13</td>\n      <td>201903202002</td>\n      <td>YEAR_INDEX_3</td>\n      <td>96</td>\n      <td>[0.006487857142857156]</td>\n      <td>0.00648786</td>\n      <td>[0.1821986904761905]</td>\n      <td>[0.04186128598932734]</td>\n    </tr>\n    <tr>\n      <th>13872</th>\n      <td>2020-08-13</td>\n      <td>201904202003</td>\n      <td>YEAR_INDEX_3</td>\n      <td>96</td>\n      <td>[0.006488854166666669]</td>\n      <td>0.00648885</td>\n      <td>[0.18868754464285717]</td>\n      <td>[0.04584399536953865]</td>\n    </tr>\n    <tr>\n      <th>13873</th>\n      <td>2020-09-13</td>\n      <td>201905202004</td>\n      <td>YEAR_INDEX_3</td>\n      <td>96</td>\n      <td>[0.00648874338624339]</td>\n      <td>0.00648874</td>\n      <td>[0.19517628802910056]</td>\n      <td>[0.04974961448371459]</td>\n    </tr>\n    <tr>\n      <th>13874</th>\n      <td>2020-04-13</td>\n      <td>201812201911</td>\n      <td>YEAR_INDEX_3</td>\n      <td>97</td>\n      <td>[0.02177499999999999]</td>\n      <td>0.021775</td>\n      <td>[0.353475]</td>\n      <td>[0.10327220118151922]</td>\n    </tr>\n    <tr>\n      <th>13875</th>\n      <td>2020-05-13</td>\n      <td>201901201912</td>\n      <td>YEAR_INDEX_3</td>\n      <td>97</td>\n      <td>[0.02126]</td>\n      <td>0.02126</td>\n      <td>[0.374735]</td>\n      <td>[0.1301491228182757]</td>\n    </tr>\n    <tr>\n      <th>13876</th>\n      <td>2020-06-13</td>\n      <td>201902202001</td>\n      <td>YEAR_INDEX_3</td>\n      <td>97</td>\n      <td>[0.02134583333333334]</td>\n      <td>0.0213458</td>\n      <td>[0.3960808333333333]</td>\n      <td>[0.15343141506976427]</td>\n    </tr>\n    <tr>\n      <th>13877</th>\n      <td>2020-07-13</td>\n      <td>201903202002</td>\n      <td>YEAR_INDEX_3</td>\n      <td>97</td>\n      <td>[0.02133357142857145]</td>\n      <td>0.0213336</td>\n      <td>[0.4174144047619048]</td>\n      <td>[0.1786905890565359]</td>\n    </tr>\n    <tr>\n      <th>13878</th>\n      <td>2020-08-13</td>\n      <td>201904202003</td>\n      <td>YEAR_INDEX_3</td>\n      <td>97</td>\n      <td>[0.021335104166666674]</td>\n      <td>0.0213351</td>\n      <td>[0.43874950892857145]</td>\n      <td>[0.19885895190378017]</td>\n    </tr>\n    <tr>\n      <th>13879</th>\n      <td>2020-04-13</td>\n      <td>201812201911</td>\n      <td>YEAR_INDEX_3</td>\n      <td>98</td>\n      <td>[0.003049999999999997]</td>\n      <td>0.00305</td>\n      <td>[0.13255]</td>\n      <td>[0.029480900190388962]</td>\n    </tr>\n    <tr>\n      <th>13880</th>\n      <td>2020-05-13</td>\n      <td>201901201912</td>\n      <td>YEAR_INDEX_3</td>\n      <td>98</td>\n      <td>[0.003049999999999997]</td>\n      <td>0.00305</td>\n      <td>[0.1356]</td>\n      <td>[0.03194025211120214]</td>\n    </tr>\n    <tr>\n      <th>13881</th>\n      <td>2020-06-13</td>\n      <td>201902202001</td>\n      <td>YEAR_INDEX_3</td>\n      <td>98</td>\n      <td>[0.003049999999999997]</td>\n      <td>0.00305</td>\n      <td>[0.13865]</td>\n      <td>[0.03801407872867543]</td>\n    </tr>\n    <tr>\n      <th>13882</th>\n      <td>2020-07-13</td>\n      <td>201903202002</td>\n      <td>YEAR_INDEX_3</td>\n      <td>98</td>\n      <td>[0.003049999999999997]</td>\n      <td>0.00305</td>\n      <td>[0.1417]</td>\n      <td>[0.04054585679581344]</td>\n    </tr>\n    <tr>\n      <th>13883</th>\n      <td>2020-08-13</td>\n      <td>201904202003</td>\n      <td>YEAR_INDEX_3</td>\n      <td>98</td>\n      <td>[0.003049999999999997]</td>\n      <td>0.00305</td>\n      <td>[0.14475]</td>\n      <td>[0.04318509804151487]</td>\n    </tr>\n    <tr>\n      <th>13884</th>\n      <td>2020-09-13</td>\n      <td>201905202004</td>\n      <td>YEAR_INDEX_3</td>\n      <td>98</td>\n      <td>[0.003049999999999997]</td>\n      <td>0.00305</td>\n      <td>[0.1478]</td>\n      <td>[0.045777805006582156]</td>\n    </tr>\n    <tr>\n      <th>13885</th>\n      <td>2020-04-13</td>\n      <td>201812201911</td>\n      <td>YEAR_INDEX_3</td>\n      <td>99</td>\n      <td>[0.0034500000000000086]</td>\n      <td>-0.00345</td>\n      <td>[0.12075]</td>\n      <td>[0.025114677753742758]</td>\n    </tr>\n    <tr>\n      <th>13886</th>\n      <td>2020-05-13</td>\n      <td>201901201912</td>\n      <td>YEAR_INDEX_3</td>\n      <td>99</td>\n      <td>[0.0034500000000000086]</td>\n      <td>-0.00345</td>\n      <td>[0.11729999999999999]</td>\n      <td>[0.027437053593456967]</td>\n    </tr>\n    <tr>\n      <th>13887</th>\n      <td>2020-06-13</td>\n      <td>201902202001</td>\n      <td>YEAR_INDEX_3</td>\n      <td>99</td>\n      <td>[0.0034500000000000086]</td>\n      <td>-0.00345</td>\n      <td>[0.11384999999999998]</td>\n      <td>[0.029512270087043352]</td>\n    </tr>\n    <tr>\n      <th>13888</th>\n      <td>2020-07-13</td>\n      <td>201903202002</td>\n      <td>YEAR_INDEX_3</td>\n      <td>99</td>\n      <td>[0.0034500000000000086]</td>\n      <td>-0.00345</td>\n      <td>[0.11039999999999997]</td>\n      <td>[0.03133514730968826]</td>\n    </tr>\n    <tr>\n      <th>13889</th>\n      <td>2020-08-13</td>\n      <td>201904202003</td>\n      <td>YEAR_INDEX_3</td>\n      <td>99</td>\n      <td>[0.001964285714285724]</td>\n      <td>-0.00196429</td>\n      <td>[0.10843571428571425]</td>\n      <td>[0.03298255209103086]</td>\n    </tr>\n    <tr>\n      <th>13890</th>\n      <td>2020-09-13</td>\n      <td>201905202004</td>\n      <td>YEAR_INDEX_3</td>\n      <td>99</td>\n      <td>[0.002149999999999999]</td>\n      <td>-0.00215</td>\n      <td>[0.10628571428571425]</td>\n      <td>[0.03457451634307068]</td>\n    </tr>\n  </tbody>\n</table>\n<p>13891 rows × 8 columns</p>\n</div>"
     },
     "metadata": {},
     "execution_count": 24
    }
   ],
   "source": [
    "ab"
   ]
  },
  {
   "cell_type": "code",
   "execution_count": 25,
   "metadata": {},
   "outputs": [],
   "source": [
    "time_index = pd.DataFrame(pd.date_range('2019-05-01', periods=11, freq='MS')+ pd.DateOffset(days=12), columns=['Date'])\n",
    "future_time_index = pd.DataFrame(pd.date_range(time_index['Date'].iloc[-1], periods=3, freq='MS')+ pd.DateOffset(days=12), columns=['Date'])\n",
    ""
   ]
  },
  {
   "cell_type": "code",
   "execution_count": 26,
   "metadata": {},
   "outputs": [],
   "source": [
    "df2 = df\n",
    "df2['PARAMETER_ESTIMATE'] =df['PARAMETER_ESTIMATE'].astype(float)\n",
    "df2.groupby(['SHMIPREDICTOR','PREDICTOR','DIAGNOSIS_GROUP'])['PARAMETER_ESTIMATE'].describe().to_csv('historytrend.csv')"
   ]
  },
  {
   "cell_type": "code",
   "execution_count": 27,
   "metadata": {},
   "outputs": [],
   "source": [
    "test.groupby(['SHMIPREDICTOR','PREDICTOR','DIAGNOSIS_GROUP'])['PARAMETER_ESTIMATE'].describe().to_csv('predictedtrend.csv')"
   ]
  },
  {
   "cell_type": "code",
   "execution_count": 28,
   "metadata": {},
   "outputs": [
    {
     "output_type": "stream",
     "name": "stdout",
     "text": "Today's date: 20200327\n"
    }
   ],
   "source": [
    "from datetime import date\n",
    "\n",
    "today = date.today()\n",
    "print(\"Today's date:\", today.strftime(\"%Y%m%d\"))"
   ]
  },
  {
   "cell_type": "code",
   "execution_count": 29,
   "metadata": {},
   "outputs": [
    {
     "output_type": "execute_result",
     "data": {
      "text/plain": "2018"
     },
     "metadata": {},
     "execution_count": 29
    }
   ],
   "source": [
    "int(df['SHMIPREDICTOR'].unique()[-1][0:4])"
   ]
  },
  {
   "cell_type": "code",
   "execution_count": 30,
   "metadata": {},
   "outputs": [],
   "source": [
    "import matplotlib.pyplot as plt\n",
    "PREDICTOR = 'AGE_GROUP_14'\n",
    "DIAGNOSIS_GROUP = '2'\n",
    "\n",
    "new_df = df[(df['PREDICTOR']==PREDICTOR)&(df['DIAGNOSIS_GROUP']==DIAGNOSIS_GROUP)][['Date','PARAMETER_ESTIMATE']].sort_values(by='Date')\n",
    ""
   ]
  },
  {
   "cell_type": "code",
   "execution_count": 31,
   "metadata": {},
   "outputs": [],
   "source": [
    "new_df2 = df[(df['PREDICTOR']==PREDICTOR)][['Date','PARAMETER_ESTIMATE']].sort_values(by='Date')\n",
    "new_df2['PARAMETER_ESTIMATE'] = new_df2['PARAMETER_ESTIMATE'].astype(float)"
   ]
  },
  {
   "cell_type": "code",
   "execution_count": 32,
   "metadata": {},
   "outputs": [
    {
     "output_type": "execute_result",
     "data": {
      "text/plain": "Date\n2019-05-13    0.577468\n2019-06-13    0.571559\n2019-07-13    0.562301\n2019-08-13    0.563252\n2019-09-13    0.569328\n2019-10-13    0.561574\n2019-11-13    0.581050\n2019-12-13    0.570097\n2020-01-13    0.568148\n2020-02-13    0.572361\n2020-03-13    0.569407\nName: PARAMETER_ESTIMATE, dtype: float64"
     },
     "metadata": {},
     "execution_count": 32
    }
   ],
   "source": [
    "new_df2.groupby('Date')['PARAMETER_ESTIMATE'].mean()"
   ]
  },
  {
   "cell_type": "code",
   "execution_count": 33,
   "metadata": {},
   "outputs": [],
   "source": [
    "new_df.set_index('Date', inplace=True)"
   ]
  },
  {
   "cell_type": "code",
   "execution_count": 34,
   "metadata": {},
   "outputs": [],
   "source": [
    "#new_df = pd.DataFrame(new_df2.groupby('Date')['PARAMETER_ESTIMATE'].mean())"
   ]
  },
  {
   "cell_type": "code",
   "execution_count": 35,
   "metadata": {},
   "outputs": [
    {
     "output_type": "execute_result",
     "data": {
      "text/plain": "            PARAMETER_ESTIMATE\nDate                          \n2019-05-13             -0.8306\n2019-06-13             -0.8145\n2019-07-13             -0.8098\n2019-08-13             -0.8014\n2019-09-13             -0.7887\n2019-10-13             -0.7856\n2019-11-13             -0.7801\n2019-12-13             -0.7803\n2020-01-13             -0.7784\n2020-02-13             -0.7692\n2020-03-13             -0.7638",
      "text/html": "<div>\n<style scoped>\n    .dataframe tbody tr th:only-of-type {\n        vertical-align: middle;\n    }\n\n    .dataframe tbody tr th {\n        vertical-align: top;\n    }\n\n    .dataframe thead th {\n        text-align: right;\n    }\n</style>\n<table border=\"1\" class=\"dataframe\">\n  <thead>\n    <tr style=\"text-align: right;\">\n      <th></th>\n      <th>PARAMETER_ESTIMATE</th>\n    </tr>\n    <tr>\n      <th>Date</th>\n      <th></th>\n    </tr>\n  </thead>\n  <tbody>\n    <tr>\n      <th>2019-05-13</th>\n      <td>-0.8306</td>\n    </tr>\n    <tr>\n      <th>2019-06-13</th>\n      <td>-0.8145</td>\n    </tr>\n    <tr>\n      <th>2019-07-13</th>\n      <td>-0.8098</td>\n    </tr>\n    <tr>\n      <th>2019-08-13</th>\n      <td>-0.8014</td>\n    </tr>\n    <tr>\n      <th>2019-09-13</th>\n      <td>-0.7887</td>\n    </tr>\n    <tr>\n      <th>2019-10-13</th>\n      <td>-0.7856</td>\n    </tr>\n    <tr>\n      <th>2019-11-13</th>\n      <td>-0.7801</td>\n    </tr>\n    <tr>\n      <th>2019-12-13</th>\n      <td>-0.7803</td>\n    </tr>\n    <tr>\n      <th>2020-01-13</th>\n      <td>-0.7784</td>\n    </tr>\n    <tr>\n      <th>2020-02-13</th>\n      <td>-0.7692</td>\n    </tr>\n    <tr>\n      <th>2020-03-13</th>\n      <td>-0.7638</td>\n    </tr>\n  </tbody>\n</table>\n</div>"
     },
     "metadata": {},
     "execution_count": 35
    }
   ],
   "source": [
    "new_df.astype('float')"
   ]
  },
  {
   "cell_type": "code",
   "execution_count": 36,
   "metadata": {},
   "outputs": [],
   "source": [
    "from numpy import array\n",
    "def supervised_for_steps(series, n_lag, lead_time):\n",
    "    data = list()\n",
    "    for i in range(n_lag, len(series)):\n",
    "        end_ix = i + (lead_time - 1)\n",
    "        if end_ix >= len(series):\n",
    "            break\n",
    "        start_ix = i - n_lag\n",
    "        ne = []\n",
    "        for item in series[start_ix:i]:\n",
    "            ne.append(item[0])\n",
    "        ne.append([series[end_ix]][0][0])        \n",
    "        row = ne        \n",
    "        data.append(row)\n",
    "    return array(data)"
   ]
  },
  {
   "cell_type": "code",
   "execution_count": 37,
   "metadata": {},
   "outputs": [
    {
     "output_type": "execute_result",
     "data": {
      "text/plain": "array([[-0.8306, -0.8145, -0.8098],\n       [-0.8145, -0.8098, -0.8014],\n       [-0.8098, -0.8014, -0.7887],\n       [-0.8014, -0.7887, -0.7856],\n       [-0.7887, -0.7856, -0.7801],\n       [-0.7856, -0.7801, -0.7803],\n       [-0.7801, -0.7803, -0.7784],\n       [-0.7803, -0.7784, -0.7692],\n       [-0.7784, -0.7692, -0.7638]])"
     },
     "metadata": {},
     "execution_count": 37
    }
   ],
   "source": [
    "supervised_for_steps(new_df.astype('float').values, 2, 1)"
   ]
  },
  {
   "cell_type": "code",
   "execution_count": 38,
   "metadata": {},
   "outputs": [],
   "source": [
    "dataset = supervised_for_steps(new_df.astype('float').values, 1, 1)"
   ]
  },
  {
   "cell_type": "code",
   "execution_count": 39,
   "metadata": {},
   "outputs": [
    {
     "output_type": "stream",
     "name": "stdout",
     "text": "(8, 2) (1, 2) (1, 2)\n"
    }
   ],
   "source": [
    "n_lag = 1\n",
    "train_data, test_data,validate_data = dataset[:-2], dataset[-2:-1], dataset[-1:]\n",
    "print(train_data.shape, test_data.shape,validate_data.shape)"
   ]
  },
  {
   "cell_type": "code",
   "execution_count": 40,
   "metadata": {},
   "outputs": [
    {
     "output_type": "stream",
     "name": "stdout",
     "text": "Defined 8 models\n"
    }
   ],
   "source": [
    "models = SHMI_PREDICTOR_SUPERVISED.get_models()"
   ]
  },
  {
   "cell_type": "code",
   "execution_count": 41,
   "metadata": {},
   "outputs": [
    {
     "output_type": "execute_result",
     "data": {
      "text/plain": "array([[-0.8306, -0.8145],\n       [-0.8145, -0.8098],\n       [-0.8098, -0.8014],\n       [-0.8014, -0.7887],\n       [-0.7887, -0.7856],\n       [-0.7856, -0.7801],\n       [-0.7801, -0.7803],\n       [-0.7803, -0.7784]])"
     },
     "metadata": {},
     "execution_count": 41
    }
   ],
   "source": [
    "train_data"
   ]
  },
  {
   "cell_type": "code",
   "execution_count": 42,
   "metadata": {},
   "outputs": [],
   "source": [
    "#SHMI_PREDICTOR_SUPERVISED.evaluate_models(models, train_data, test_data, validate_data)"
   ]
  },
  {
   "cell_type": "code",
   "execution_count": 43,
   "metadata": {},
   "outputs": [],
   "source": [
    "X, y = train_data[:,:-1],train_data[:,-1]"
   ]
  },
  {
   "cell_type": "code",
   "execution_count": 44,
   "metadata": {},
   "outputs": [
    {
     "output_type": "execute_result",
     "data": {
      "text/plain": "2"
     },
     "metadata": {},
     "execution_count": 44
    }
   ],
   "source": [
    "train_data.shape[1]"
   ]
  },
  {
   "cell_type": "code",
   "execution_count": 45,
   "metadata": {},
   "outputs": [],
   "source": [
    "from sklearn.linear_model import LinearRegression\n",
    "from sklearn.linear_model import Lasso\n",
    "from sklearn.linear_model import Ridge\n",
    "from sklearn.linear_model import ElasticNet\n",
    "from sklearn.linear_model import HuberRegressor\n",
    "from sklearn.linear_model import LassoLars\n",
    "from sklearn.linear_model import PassiveAggressiveRegressor\n",
    "from sklearn.linear_model import SGDRegressor\n",
    "from sklearn.neighbors import KNeighborsRegressor\n",
    "from sklearn.tree import DecisionTreeRegressor\n",
    "from sklearn.tree import ExtraTreeRegressor\n",
    "from sklearn.svm import SVR\n",
    "from sklearn.ensemble import AdaBoostRegressor\n",
    "from sklearn.ensemble import BaggingRegressor\n",
    "from sklearn.ensemble import RandomForestRegressor\n",
    "from sklearn.ensemble import ExtraTreesRegressor\n",
    "from sklearn.ensemble import GradientBoostingRegressor\n",
    "\n",
    "n_trees = 5\n",
    "test = DecisionTreeRegressor()"
   ]
  },
  {
   "cell_type": "code",
   "execution_count": 46,
   "metadata": {},
   "outputs": [],
   "source": [
    "import numpy as np\n",
    "X_1 = np.concatenate((X, test_data[:,:-1]))\n",
    "y_1 = np.concatenate((y, test_data[:,-1]))"
   ]
  },
  {
   "cell_type": "code",
   "execution_count": 47,
   "metadata": {},
   "outputs": [],
   "source": [
    "lr = SHMI_PREDICTOR_SUPERVISED.fit_model(test, X, y)"
   ]
  },
  {
   "cell_type": "code",
   "execution_count": 48,
   "metadata": {},
   "outputs": [
    {
     "output_type": "execute_result",
     "data": {
      "text/plain": "array([[-0.7784]])"
     },
     "metadata": {},
     "execution_count": 48
    }
   ],
   "source": [
    "test_data[:,:-1]"
   ]
  },
  {
   "cell_type": "code",
   "execution_count": 49,
   "metadata": {},
   "outputs": [
    {
     "output_type": "execute_result",
     "data": {
      "text/plain": "(array([-0.7803]), array([-0.7692]))"
     },
     "metadata": {},
     "execution_count": 49
    }
   ],
   "source": [
    "lr.predict(test_data[:,:-1]),test_data[:,-1]"
   ]
  },
  {
   "cell_type": "code",
   "execution_count": 50,
   "metadata": {},
   "outputs": [
    {
     "output_type": "execute_result",
     "data": {
      "text/plain": "(array([-0.7803]), array([-0.7638]))"
     },
     "metadata": {},
     "execution_count": 50
    }
   ],
   "source": [
    "lr.predict(validate_data[:,:-1]),validate_data[:,-1]\n",
    ""
   ]
  },
  {
   "cell_type": "code",
   "execution_count": 51,
   "metadata": {},
   "outputs": [],
   "source": [
    "lr2 = SHMI_PREDICTOR_SUPERVISED.fit_model(test, X_1, y_1)"
   ]
  },
  {
   "cell_type": "code",
   "execution_count": 52,
   "metadata": {},
   "outputs": [
    {
     "output_type": "execute_result",
     "data": {
      "text/plain": "(array([-0.7692]), array([-0.7638]))"
     },
     "metadata": {},
     "execution_count": 52
    }
   ],
   "source": [
    "lr2.predict(validate_data[:,:-1]),validate_data[:,-1]"
   ]
  },
  {
   "cell_type": "code",
   "execution_count": 53,
   "metadata": {},
   "outputs": [],
   "source": [
    "tt = [[list() for _ in range(train_data.shape[1])] for _ in range(train_data.shape[0])]"
   ]
  },
  {
   "cell_type": "code",
   "execution_count": 54,
   "metadata": {},
   "outputs": [
    {
     "output_type": "execute_result",
     "data": {
      "text/plain": "[]"
     },
     "metadata": {},
     "execution_count": 54
    }
   ],
   "source": [
    "tt[1][0]"
   ]
  },
  {
   "cell_type": "code",
   "execution_count": 55,
   "metadata": {},
   "outputs": [
    {
     "output_type": "execute_result",
     "data": {
      "text/plain": "range(0, 2)"
     },
     "metadata": {},
     "execution_count": 55
    }
   ],
   "source": [
    "range(train_data.shape[1])"
   ]
  },
  {
   "cell_type": "code",
   "execution_count": 56,
   "metadata": {},
   "outputs": [
    {
     "output_type": "execute_result",
     "data": {
      "text/plain": "range(0, 8)"
     },
     "metadata": {},
     "execution_count": 56
    }
   ],
   "source": [
    "range(train_data.shape[0])"
   ]
  },
  {
   "cell_type": "code",
   "execution_count": 57,
   "metadata": {},
   "outputs": [
    {
     "output_type": "error",
     "ename": "IndexError",
     "evalue": "index 2 is out of bounds for axis 0 with size 2",
     "traceback": [
      "\u001b[1;31m---------------------------------------------------------------------------\u001b[0m",
      "\u001b[1;31mIndexError\u001b[0m                                Traceback (most recent call last)",
      "\u001b[1;32m<ipython-input-57-81e341d1774c>\u001b[0m in \u001b[0;36m<module>\u001b[1;34m()\u001b[0m\n\u001b[1;32m----> 1\u001b[1;33m \u001b[0mSHMI_PREDICTOR_SUPERVISED\u001b[0m\u001b[1;33m.\u001b[0m\u001b[0mevaluate_models\u001b[0m\u001b[1;33m(\u001b[0m\u001b[0mmodels\u001b[0m\u001b[1;33m,\u001b[0m\u001b[0mtrain_data\u001b[0m\u001b[1;33m[\u001b[0m\u001b[1;36m0\u001b[0m\u001b[1;33m]\u001b[0m\u001b[1;33m,\u001b[0m\u001b[0mtest_data\u001b[0m\u001b[1;33m[\u001b[0m\u001b[1;36m0\u001b[0m\u001b[1;33m]\u001b[0m\u001b[1;33m,\u001b[0m\u001b[0mdataset\u001b[0m\u001b[1;33m[\u001b[0m\u001b[1;33m-\u001b[0m\u001b[1;36m2\u001b[0m\u001b[1;33m:\u001b[0m\u001b[1;33m-\u001b[0m\u001b[1;36m1\u001b[0m\u001b[1;33m]\u001b[0m\u001b[1;33m[\u001b[0m\u001b[1;36m0\u001b[0m\u001b[1;33m]\u001b[0m\u001b[1;33m[\u001b[0m\u001b[1;36m2\u001b[0m\u001b[1;33m]\u001b[0m\u001b[1;33m)\u001b[0m\u001b[1;33m\u001b[0m\u001b[1;33m\u001b[0m\u001b[0m\n\u001b[0m",
      "\u001b[1;31mIndexError\u001b[0m: index 2 is out of bounds for axis 0 with size 2"
     ]
    }
   ],
   "source": [
    "SHMI_PREDICTOR_SUPERVISED.evaluate_models(models,train_data[0],test_data[0],dataset[-2:-1][0][2])"
   ]
  },
  {
   "cell_type": "code",
   "execution_count": 58,
   "metadata": {},
   "outputs": [
    {
     "output_type": "error",
     "ename": "IndexError",
     "evalue": "tuple index out of range",
     "traceback": [
      "\u001b[1;31m---------------------------------------------------------------------------\u001b[0m",
      "\u001b[1;31mIndexError\u001b[0m                                Traceback (most recent call last)",
      "\u001b[1;32m<ipython-input-58-7b6a0aa95e42>\u001b[0m in \u001b[0;36m<module>\u001b[1;34m()\u001b[0m\n\u001b[1;32m----> 1\u001b[1;33m \u001b[0mtrain_data\u001b[0m\u001b[1;33m[\u001b[0m\u001b[1;36m0\u001b[0m\u001b[1;33m]\u001b[0m\u001b[1;33m.\u001b[0m\u001b[0mshape\u001b[0m\u001b[1;33m[\u001b[0m\u001b[1;36m1\u001b[0m\u001b[1;33m]\u001b[0m\u001b[1;33m\u001b[0m\u001b[1;33m\u001b[0m\u001b[0m\n\u001b[0m",
      "\u001b[1;31mIndexError\u001b[0m: tuple index out of range"
     ]
    }
   ],
   "source": [
    "train_data[0].shape[1]"
   ]
  },
  {
   "cell_type": "code",
   "execution_count": 59,
   "metadata": {},
   "outputs": [
    {
     "output_type": "execute_result",
     "data": {
      "text/plain": "array([[-0.8306, -0.8145],\n       [-0.8145, -0.8098],\n       [-0.8098, -0.8014],\n       [-0.8014, -0.7887],\n       [-0.7887, -0.7856],\n       [-0.7856, -0.7801],\n       [-0.7801, -0.7803],\n       [-0.7803, -0.7784]])"
     },
     "metadata": {},
     "execution_count": 59
    }
   ],
   "source": [
    "train_data"
   ]
  },
  {
   "cell_type": "code",
   "execution_count": null,
   "metadata": {},
   "outputs": [],
   "source": []
  }
 ],
 "metadata": {
  "kernelspec": {
   "display_name": "Python 3",
   "language": "python",
   "name": "python3"
  },
  "language_info": {
   "codemirror_mode": {
    "name": "ipython",
    "version": 3
   },
   "file_extension": ".py",
   "mimetype": "text/x-python",
   "name": "python",
   "nbconvert_exporter": "python",
   "pygments_lexer": "ipython3",
   "version": "3.6.8-final"
  }
 },
 "nbformat": 4,
 "nbformat_minor": 2
}