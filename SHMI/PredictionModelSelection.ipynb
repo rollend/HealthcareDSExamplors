{
 "cells": [
  {
   "cell_type": "code",
   "execution_count": 29,
   "metadata": {},
   "outputs": [],
   "source": [
    "import os\n",
    "import sys\n",
    "module_path = os.path.abspath(os.path.join('..\\\\PythonModules\\\\'))                                           \n",
    "if module_path not in sys.path:\n",
    "    sys.path.append(module_path)\n",
    "##import Bedrock_Client\n",
    "##import pyodbc\n",
    "import pandas as pd\n",
    "import PredictorOptimize"
   ]
  },
  {
   "cell_type": "code",
   "execution_count": 30,
   "metadata": {},
   "outputs": [],
   "source": [
    "##df = pd.read_sql_query('select * fROM ref.SHMI_Model_Predict_Statistics',Bedrock_Conn)\n",
    "import Pickle_Utility\n",
    "df =Pickle_Utility.read('shimi_predictor')\n"
   ]
  },
  {
   "cell_type": "markdown",
   "metadata": {},
   "source": [
    "df.to_csv('shmi_predictor.csv')"
   ]
  },
  {
   "cell_type": "code",
   "execution_count": 87,
   "metadata": {},
   "outputs": [],
   "source": [
    "import matplotlib.pyplot as plt\n",
    "PREDICTOR = 'AGE_GROUP_14'\n",
    "DIAGNOSIS_GROUP = '2'\n",
    "\n",
    "new_df = df[(df['PREDICTOR']==PREDICTOR)&(df['DIAGNOSIS_GROUP']==DIAGNOSIS_GROUP)][['Date','PARAMETER_ESTIMATE']].sort_values(by='Date')\n"
   ]
  },
  {
   "cell_type": "code",
   "execution_count": 88,
   "metadata": {},
   "outputs": [],
   "source": [
    "new_df.set_index('Date', inplace=True)"
   ]
  },
  {
   "cell_type": "code",
   "execution_count": 89,
   "metadata": {},
   "outputs": [
    {
     "data": {
      "text/html": "<div>\n<style scoped>\n    .dataframe tbody tr th:only-of-type {\n        vertical-align: middle;\n    }\n\n    .dataframe tbody tr th {\n        vertical-align: top;\n    }\n\n    .dataframe thead th {\n        text-align: right;\n    }\n</style>\n<table border=\"1\" class=\"dataframe\">\n  <thead>\n    <tr style=\"text-align: right;\">\n      <th></th>\n      <th>PARAMETER_ESTIMATE</th>\n    </tr>\n    <tr>\n      <th>Date</th>\n      <th></th>\n    </tr>\n  </thead>\n  <tbody>\n    <tr>\n      <th>2019-05-13</th>\n      <td>-0.8306</td>\n    </tr>\n    <tr>\n      <th>2019-06-13</th>\n      <td>-0.8145</td>\n    </tr>\n    <tr>\n      <th>2019-07-13</th>\n      <td>-0.8098</td>\n    </tr>\n    <tr>\n      <th>2019-08-13</th>\n      <td>-0.8014</td>\n    </tr>\n    <tr>\n      <th>2019-09-13</th>\n      <td>-0.7887</td>\n    </tr>\n    <tr>\n      <th>2019-10-13</th>\n      <td>-0.7856</td>\n    </tr>\n    <tr>\n      <th>2019-11-13</th>\n      <td>-0.7801</td>\n    </tr>\n    <tr>\n      <th>2019-12-13</th>\n      <td>-0.7803</td>\n    </tr>\n    <tr>\n      <th>2020-01-13</th>\n      <td>-0.7784</td>\n    </tr>\n    <tr>\n      <th>2020-02-13</th>\n      <td>-0.7692</td>\n    </tr>\n    <tr>\n      <th>2020-03-13</th>\n      <td>-0.7638</td>\n    </tr>\n  </tbody>\n</table>\n</div>",
      "text/plain": "            PARAMETER_ESTIMATE\nDate                          \n2019-05-13             -0.8306\n2019-06-13             -0.8145\n2019-07-13             -0.8098\n2019-08-13             -0.8014\n2019-09-13             -0.7887\n2019-10-13             -0.7856\n2019-11-13             -0.7801\n2019-12-13             -0.7803\n2020-01-13             -0.7784\n2020-02-13             -0.7692\n2020-03-13             -0.7638"
     },
     "execution_count": 89,
     "metadata": {},
     "output_type": "execute_result"
    }
   ],
   "source": [
    "new_df.astype('float')"
   ]
  },
  {
   "cell_type": "code",
   "execution_count": 90,
   "metadata": {},
   "outputs": [],
   "source": [
    "from statsmodels.tsa.ar_model import AR\n",
    "from statsmodels.tsa.ar_model import ARResults\n",
    "import numpy\n",
    " \n",
    "# create a difference transform of the dataset\n",
    "def difference(dataset):\n",
    "    diff = list()\n",
    "    for i in range(1, len(dataset)):\n",
    "        value = dataset[i] - dataset[i - 1]\n",
    "        diff.append(value)\n",
    "    return numpy.array(diff)\n",
    "df_train = new_df.drop(new_df.tail(1).index, inplace=False) \n",
    "# load dataset\n",
    "series = df_train.astype('float')\n",
    "X = difference(series.values)\n",
    "# fit model\n",
    "model = AR(X)\n",
    "model_fit = model.fit(maxlag=3, disp=False)\n",
    "# save model to file\n",
    "model_fit.save('ar_model.pkl')\n",
    "# save the differenced dataset\n",
    "numpy.save('ar_data.npy', X)\n",
    "# save the last ob\n",
    "numpy.save('ar_obs.npy', [series.values[-1]])"
   ]
  },
  {
   "cell_type": "code",
   "execution_count": 91,
   "metadata": {},
   "outputs": [],
   "source": [
    "\n"
   ]
  },
  {
   "cell_type": "code",
   "execution_count": 91,
   "metadata": {},
   "outputs": [
    {
     "name": "stdout",
     "output_type": "stream",
     "text": "[0.00682222]\n"
    }
   ],
   "source": [
    "print(sum(X)/len(X))"
   ]
  },
  {
   "cell_type": "code",
   "execution_count": 92,
   "metadata": {},
   "outputs": [
    {
     "data": {
      "text/plain": "[array([-0.7692])]"
     },
     "execution_count": 92,
     "metadata": {},
     "output_type": "execute_result"
    }
   ],
   "source": [
    "[series.values[-1]]"
   ]
  },
  {
   "cell_type": "code",
   "execution_count": 93,
   "metadata": {},
   "outputs": [
    {
     "name": "stdout",
     "output_type": "stream",
     "text": "[ 0.00322733  0.01049784 -0.16535987  0.3596375 ]\n[[-0.7692]]\n"
    }
   ],
   "source": [
    "# load the AR model from file\n",
    "from statsmodels.tsa.ar_model import ARResults\n",
    "import numpy\n",
    "loaded = ARResults.load('ar_model.pkl')\n",
    "print(loaded.params)\n",
    "data = numpy.load('ar_data.npy')\n",
    "last_ob = numpy.load('ar_obs.npy')\n",
    "print(last_ob)"
   ]
  },
  {
   "cell_type": "code",
   "execution_count": 94,
   "metadata": {},
   "outputs": [
    {
     "name": "stdout",
     "output_type": "stream",
     "text": "Prediction: -0.766262\n"
    }
   ],
   "source": [
    "# load AR model from file and make a one-step prediction\n",
    "from statsmodels.tsa.ar_model import ARResults\n",
    "import numpy\n",
    "# load model\n",
    "model = ARResults.load('ar_model.pkl')\n",
    "data = numpy.load('ar_data.npy')\n",
    "last_ob = numpy.load('ar_obs.npy')\n",
    "# make prediction\n",
    "predictions = model.predict(start=len(data), end=len(data))\n",
    "# transform prediction\n",
    "yhat = predictions[0] + last_ob[0]\n",
    "print('Prediction: %f' % yhat)"
   ]
  },
  {
   "cell_type": "code",
   "execution_count": 95,
   "metadata": {},
   "outputs": [
    {
     "data": {
      "text/html": "<div>\n<style scoped>\n    .dataframe tbody tr th:only-of-type {\n        vertical-align: middle;\n    }\n\n    .dataframe tbody tr th {\n        vertical-align: top;\n    }\n\n    .dataframe thead th {\n        text-align: right;\n    }\n</style>\n<table border=\"1\" class=\"dataframe\">\n  <thead>\n    <tr style=\"text-align: right;\">\n      <th></th>\n      <th>PARAMETER_ESTIMATE</th>\n    </tr>\n    <tr>\n      <th>Date</th>\n      <th></th>\n    </tr>\n  </thead>\n  <tbody>\n    <tr>\n      <th>2020-03-13</th>\n      <td>-0.7638</td>\n    </tr>\n  </tbody>\n</table>\n</div>",
      "text/plain": "           PARAMETER_ESTIMATE\nDate                         \n2020-03-13            -0.7638"
     },
     "execution_count": 95,
     "metadata": {},
     "output_type": "execute_result"
    }
   ],
   "source": [
    "new_df.tail(1)"
   ]
  },
  {
   "cell_type": "code",
   "execution_count": 96,
   "metadata": {},
   "outputs": [
    {
     "name": "stdout",
     "output_type": "stream",
     "text": "10   -0.763953\ndtype: float64\nf:\\ProgramData\\Anaconda3\\lib\\site-packages\\statsmodels\\tsa\\base\\tsa_model.py:219: ValueWarning: A date index has been provided, but it has no associated frequency information and so will be ignored when e.g. forecasting.\n  ' ignored when e.g. forecasting.', ValueWarning)\nf:\\ProgramData\\Anaconda3\\lib\\site-packages\\statsmodels\\tsa\\base\\tsa_model.py:576: ValueWarning: No supported index is available. Prediction results will be given with an integer index beginning at `start`.\n  ValueWarning)\n"
    }
   ],
   "source": [
    "# AR example\n",
    "from statsmodels.tsa.ar_model import AR\n",
    "from random import random\n",
    "# contrived dataset\n",
    "data = df_train.astype('float')\n",
    "# fit model\n",
    "model = AR(data)\n",
    "model_fit = model.fit()\n",
    "# make prediction\n",
    "yhat = model_fit.predict(len(data), len(data))\n",
    "print(yhat)"
   ]
  },
  {
   "cell_type": "code",
   "execution_count": 97,
   "metadata": {},
   "outputs": [
    {
     "name": "stdout",
     "output_type": "stream",
     "text": "10   -0.769377\ndtype: float64\nf:\\ProgramData\\Anaconda3\\lib\\site-packages\\statsmodels\\tsa\\base\\tsa_model.py:219: ValueWarning: A date index has been provided, but it has no associated frequency information and so will be ignored when e.g. forecasting.\n  ' ignored when e.g. forecasting.', ValueWarning)\nf:\\ProgramData\\Anaconda3\\lib\\site-packages\\statsmodels\\tsa\\base\\tsa_model.py:576: ValueWarning: No supported index is available. Prediction results will be given with an integer index beginning at `start`.\n  ValueWarning)\n"
    }
   ],
   "source": [
    "from statsmodels.tsa.holtwinters import SimpleExpSmoothing\n",
    "from random import random\n",
    "# contrived dataset\n",
    "data = df_train.astype('float')\n",
    "# fit model\n",
    "model = SimpleExpSmoothing(data)\n",
    "model_fit = model.fit()\n",
    "# make prediction\n",
    "yhat = model_fit.predict(len(data), len(data))\n",
    "print(yhat)"
   ]
  },
  {
   "cell_type": "code",
   "execution_count": 98,
   "metadata": {},
   "outputs": [
    {
     "name": "stdout",
     "output_type": "stream",
     "text": "10   -0.769377\ndtype: float64\nf:\\ProgramData\\Anaconda3\\lib\\site-packages\\statsmodels\\tsa\\base\\tsa_model.py:219: ValueWarning: A date index has been provided, but it has no associated frequency information and so will be ignored when e.g. forecasting.\n  ' ignored when e.g. forecasting.', ValueWarning)\nf:\\ProgramData\\Anaconda3\\lib\\site-packages\\statsmodels\\tsa\\base\\tsa_model.py:576: ValueWarning: No supported index is available. Prediction results will be given with an integer index beginning at `start`.\n  ValueWarning)\n"
    }
   ],
   "source": [
    "from statsmodels.tsa.holtwinters import ExponentialSmoothing\n",
    "from random import random\n",
    "# contrived dataset\n",
    "data = df_train.astype('float')\n",
    "# fit model\n",
    "model = ExponentialSmoothing(data)\n",
    "model_fit = model.fit()\n",
    "# make prediction\n",
    "yhat = model_fit.predict(len(data), len(data))\n",
    "print(yhat)"
   ]
  },
  {
   "cell_type": "code",
   "execution_count": 99,
   "metadata": {},
   "outputs": [
    {
     "data": {
      "text/html": "<div>\n<style scoped>\n    .dataframe tbody tr th:only-of-type {\n        vertical-align: middle;\n    }\n\n    .dataframe tbody tr th {\n        vertical-align: top;\n    }\n\n    .dataframe thead th {\n        text-align: right;\n    }\n</style>\n<table border=\"1\" class=\"dataframe\">\n  <thead>\n    <tr style=\"text-align: right;\">\n      <th></th>\n      <th>PARAMETER_ESTIMATE</th>\n    </tr>\n    <tr>\n      <th>Date</th>\n      <th></th>\n    </tr>\n  </thead>\n  <tbody>\n    <tr>\n      <th>2019-05-13</th>\n      <td>-0.8306</td>\n    </tr>\n    <tr>\n      <th>2019-06-13</th>\n      <td>-0.8145</td>\n    </tr>\n    <tr>\n      <th>2019-07-13</th>\n      <td>-0.8098</td>\n    </tr>\n    <tr>\n      <th>2019-08-13</th>\n      <td>-0.8014</td>\n    </tr>\n    <tr>\n      <th>2019-09-13</th>\n      <td>-0.7887</td>\n    </tr>\n    <tr>\n      <th>2019-10-13</th>\n      <td>-0.7856</td>\n    </tr>\n    <tr>\n      <th>2019-11-13</th>\n      <td>-0.7801</td>\n    </tr>\n    <tr>\n      <th>2019-12-13</th>\n      <td>-0.7803</td>\n    </tr>\n    <tr>\n      <th>2020-01-13</th>\n      <td>-0.7784</td>\n    </tr>\n    <tr>\n      <th>2020-02-13</th>\n      <td>-0.7692</td>\n    </tr>\n  </tbody>\n</table>\n</div>",
      "text/plain": "            PARAMETER_ESTIMATE\nDate                          \n2019-05-13             -0.8306\n2019-06-13             -0.8145\n2019-07-13             -0.8098\n2019-08-13             -0.8014\n2019-09-13             -0.7887\n2019-10-13             -0.7856\n2019-11-13             -0.7801\n2019-12-13             -0.7803\n2020-01-13             -0.7784\n2020-02-13             -0.7692"
     },
     "execution_count": 99,
     "metadata": {},
     "output_type": "execute_result"
    }
   ],
   "source": [
    "data"
   ]
  },
  {
   "cell_type": "code",
   "execution_count": 100,
   "metadata": {},
   "outputs": [
    {
     "name": "stdout",
     "output_type": "stream",
     "text": "> Model[['add', True, None, None, False, True]] 0.104\n > Model[['add', True, None, None, False, False]] 0.005\n > Model[['add', False, None, None, False, True]] 0.027\n > Model[['add', False, None, None, False, False]] 0.024\n > Model[[None, False, None, None, False, True]] 0.091\n > Model[[None, False, None, None, False, False]] 0.005\ndone\n[None, False, None, None, False, False] 0.005444364649126767\n['add', True, None, None, False, False] 0.005444364768165183\n['add', False, None, None, False, False] 0.023887602029880394\n"
    }
   ],
   "source": [
    "data = df_train.astype('float').values\n",
    "\t# data split\n",
    "n_test = 3\n",
    "# model configs\n",
    "cfg_list = PredictorOptimize.exp_smoothing_configs(seasonal=[None])\n",
    "# grid search\n",
    "\n",
    "#walk_forward_validation(data, n_test, cfg)\n",
    "\n",
    "scores = PredictorOptimize.grid_search(data[:,0], cfg_list, n_test)\n",
    "print('done')\n",
    "# list top 3 configs\n",
    "for cfg, error in scores[:3]:\n",
    "    print(cfg, error)"
   ]
  },
  {
   "cell_type": "code",
   "execution_count": 101,
   "metadata": {},
   "outputs": [
    {
     "name": "stdout",
     "output_type": "stream",
     "text": "> Model[['add', True, None, None, False, True]] 0.095\n > Model[['add', True, None, None, False, False]] 0.006\n > Model[['add', False, None, None, False, True]] 0.049\n > Model[['add', False, None, None, False, False]] 0.010\n > Model[[None, False, None, None, False, True]] 0.084\n > Model[[None, False, None, None, False, False]] 0.006\ndone\n[None, False, None, None, False, False] 0.006325008023340217\n['add', True, None, None, False, False] 0.006325008617063463\n['add', False, None, None, False, False] 0.01033400044804482\n"
    }
   ],
   "source": [
    "data = new_df.astype('float').values\n",
    "\t# data split\n",
    "n_test = 3\n",
    "# model configs\n",
    "cfg_list = PredictorOptimize.exp_smoothing_configs(seasonal=[None])\n",
    "# grid search\n",
    "\n",
    "#walk_forward_validation(data, n_test, cfg)\n",
    "\n",
    "scores = PredictorOptimize.grid_search(data[:,0], cfg_list, n_test)\n",
    "print('done')\n",
    "# list top 3 configs\n",
    "for cfg, error in scores[:3]:\n",
    "    print(cfg, error)"
   ]
  },
  {
   "cell_type": "code",
   "execution_count": 102,
   "metadata": {},
   "outputs": [
    {
     "data": {
      "text/plain": "array([-0.79112727])"
     },
     "execution_count": 102,
     "metadata": {},
     "output_type": "execute_result"
    }
   ],
   "source": [
    "sum(data)/len(data)"
   ]
  },
  {
   "cell_type": "code",
   "execution_count": 103,
   "metadata": {},
   "outputs": [
    {
     "data": {
      "text/plain": "-0.7639064000238105"
     },
     "execution_count": 103,
     "metadata": {},
     "output_type": "execute_result"
    }
   ],
   "source": [
    "PredictorOptimize.exp_smoothing_forecast(data, ['additive', True, 2, None, False, False])"
   ]
  },
  {
   "cell_type": "code",
   "execution_count": 104,
   "metadata": {},
   "outputs": [
    {
     "data": {
      "text/plain": "array([[-0.8306],\n       [-0.8145],\n       [-0.8098],\n       [-0.8014],\n       [-0.7887],\n       [-0.7856],\n       [-0.7801],\n       [-0.7803],\n       [-0.7784],\n       [-0.7692],\n       [-0.7638]])"
     },
     "execution_count": 104,
     "metadata": {},
     "output_type": "execute_result"
    }
   ],
   "source": [
    "data"
   ]
  },
  {
   "cell_type": "code",
   "execution_count": 105,
   "metadata": {},
   "outputs": [
    {
     "data": {
      "text/html": "<div>\n<style scoped>\n    .dataframe tbody tr th:only-of-type {\n        vertical-align: middle;\n    }\n\n    .dataframe tbody tr th {\n        vertical-align: top;\n    }\n\n    .dataframe thead th {\n        text-align: right;\n    }\n</style>\n<table border=\"1\" class=\"dataframe\">\n  <thead>\n    <tr style=\"text-align: right;\">\n      <th></th>\n      <th>PARAMETER_ESTIMATE</th>\n    </tr>\n    <tr>\n      <th>Date</th>\n      <th></th>\n    </tr>\n  </thead>\n  <tbody>\n    <tr>\n      <th>2019-05-13</th>\n      <td>-0.8306</td>\n    </tr>\n    <tr>\n      <th>2019-06-13</th>\n      <td>-0.8145</td>\n    </tr>\n    <tr>\n      <th>2019-07-13</th>\n      <td>-0.8098</td>\n    </tr>\n    <tr>\n      <th>2019-08-13</th>\n      <td>-0.8014</td>\n    </tr>\n    <tr>\n      <th>2019-09-13</th>\n      <td>-0.7887</td>\n    </tr>\n    <tr>\n      <th>2019-10-13</th>\n      <td>-0.7856</td>\n    </tr>\n    <tr>\n      <th>2019-11-13</th>\n      <td>-0.7801</td>\n    </tr>\n    <tr>\n      <th>2019-12-13</th>\n      <td>-0.7803</td>\n    </tr>\n    <tr>\n      <th>2020-01-13</th>\n      <td>-0.7784</td>\n    </tr>\n    <tr>\n      <th>2020-02-13</th>\n      <td>-0.7692</td>\n    </tr>\n    <tr>\n      <th>2020-03-13</th>\n      <td>-0.7638</td>\n    </tr>\n  </tbody>\n</table>\n</div>",
      "text/plain": "           PARAMETER_ESTIMATE\nDate                         \n2019-05-13            -0.8306\n2019-06-13            -0.8145\n2019-07-13            -0.8098\n2019-08-13            -0.8014\n2019-09-13            -0.7887\n2019-10-13            -0.7856\n2019-11-13            -0.7801\n2019-12-13            -0.7803\n2020-01-13            -0.7784\n2020-02-13            -0.7692\n2020-03-13            -0.7638"
     },
     "execution_count": 105,
     "metadata": {},
     "output_type": "execute_result"
    }
   ],
   "source": [
    "new_df"
   ]
  },
  {
   "cell_type": "code",
   "execution_count": 106,
   "metadata": {},
   "outputs": [
    {
     "data": {
      "text/plain": "array([[-0.8306   ],\n       [-0.8145   ],\n       [-0.8098   ],\n       [-0.8014   ],\n       [-0.7887   ],\n       [-0.7856   ],\n       [-0.7801   ],\n       [-0.7803   ],\n       [-0.7784   ],\n       [-0.7692   ],\n       [-0.7638   ],\n       [-0.7639064]])"
     },
     "execution_count": 106,
     "metadata": {},
     "output_type": "execute_result"
    }
   ],
   "source": [
    "import numpy as np\n",
    "b=np.array([[PredictorOptimize.exp_smoothing_forecast(data, ['add', True, None, None, False, False])]])\n",
    "data = np.concatenate((data, b))\n",
    "#add([exp_smoothing_forecast(data, ['add', True, None, None, False, False])])\n",
    "data"
   ]
  },
  {
   "cell_type": "code",
   "execution_count": 107,
   "metadata": {},
   "outputs": [
    {
     "data": {
      "text/plain": "-0.7639064000200587"
     },
     "execution_count": 107,
     "metadata": {},
     "output_type": "execute_result"
    }
   ],
   "source": [
    "PredictorOptimize.exp_smoothing_forecast(data, ['add', True, None, None, False, False])"
   ]
  },
  {
   "cell_type": "code",
   "execution_count": 108,
   "metadata": {},
   "outputs": [
    {
     "data": {
      "text/plain": "'[None, False, None, None, False, False]'"
     },
     "execution_count": 108,
     "metadata": {},
     "output_type": "execute_result"
    }
   ],
   "source": [
    "config = scores[:1][0][0]\n",
    "config"
   ]
  },
  {
   "cell_type": "code",
   "execution_count": 109,
   "metadata": {},
   "outputs": [],
   "source": [
    "import ast\n",
    "n_test = 3\n",
    "def predict_n_steps(data, n_steps, use_new_model = True):\n",
    "    data_history = data\n",
    "    cfg_list = PredictorOptimize.exp_smoothing_configs(seasonal=[0,6,12])\n",
    "    scores = PredictorOptimize.grid_search(data[:,0], cfg_list, n_test)\n",
    "    config = scores[:1][0][0]\n",
    "    if use_new_model == True:\n",
    "        for i in range(n_steps):\n",
    "            new = np.array([[PredictorOptimize.exp_smoothing_forecast(data_history,ast.literal_eval(config))]])\n",
    "            data_history = np.concatenate((data_history, new))\n",
    "    else:\n",
    "        t,d,s,p,b,r = ast.literal_eval(config)\n",
    "        model = ExponentialSmoothing(data_history, trend=t, damped=d, seasonal=s, seasonal_periods=p)\n",
    "        model_fit = model.fit(optimized=True, use_boxcox=b, remove_bias=r)\n",
    "        for i in range(n_steps):            \n",
    "            yhat = np.array([model_fit.predict(len(data_history), len(data_history))])            \n",
    "            data_history = np.concatenate((data_history, yhat))            \n",
    "    return data_history"
   ]
  },
  {
   "cell_type": "code",
   "execution_count": 110,
   "metadata": {},
   "outputs": [
    {
     "name": "stdout",
     "output_type": "stream",
     "text": "> Model[['add', True, None, 0, False, True]] 0.085\n > Model[['add', True, None, 0, False, False]] 0.006\n > Model[['add', True, None, 6, False, True]] 0.085\n > Model[['add', True, None, 6, False, False]] 0.006\n > Model[['add', True, None, 12, False, True]] 0.085\n > Model[['add', True, None, 12, False, False]] 0.006\n > Model[['add', False, None, 0, False, True]] 0.064\n > Model[['add', False, None, 0, False, False]] 0.004\n > Model[['add', False, None, 6, False, True]] 0.064\n > Model[['add', False, None, 6, False, False]] 0.004\n > Model[['add', False, None, 12, False, True]] 0.064\n > Model[['add', False, None, 12, False, False]] 0.004\n > Model[[None, False, 'add', 6, False, True]] 0.145\n > Model[[None, False, 'add', 6, False, False]] 0.146\n > Model[[None, False, None, 0, False, True]] 0.076\n > Model[[None, False, None, 0, False, False]] 0.006\n > Model[[None, False, None, 6, False, True]] 0.076\n > Model[[None, False, None, 6, False, False]] 0.006\n > Model[[None, False, None, 12, False, True]] 0.076\n > Model[[None, False, None, 12, False, False]] 0.006\n"
    },
    {
     "data": {
      "text/plain": "array([[-0.8306   ],\n       [-0.8145   ],\n       [-0.8098   ],\n       [-0.8014   ],\n       [-0.7887   ],\n       [-0.7856   ],\n       [-0.7801   ],\n       [-0.7803   ],\n       [-0.7784   ],\n       [-0.7692   ],\n       [-0.7638   ],\n       [-0.7639064],\n       [-0.7639064],\n       [-0.7639064],\n       [-0.7639064],\n       [-0.7639064]])"
     },
     "execution_count": 110,
     "metadata": {},
     "output_type": "execute_result"
    }
   ],
   "source": [
    "predict_n_steps(data,4)"
   ]
  },
  {
   "cell_type": "code",
   "execution_count": 111,
   "metadata": {},
   "outputs": [
    {
     "name": "stdout",
     "output_type": "stream",
     "text": "> Model[['add', True, None, 0, False, True]] 0.085\n > Model[['add', True, None, 0, False, False]] 0.006\n > Model[['add', True, None, 6, False, True]] 0.085\n > Model[['add', True, None, 6, False, False]] 0.006\n > Model[['add', True, None, 12, False, True]] 0.085\n > Model[['add', True, None, 12, False, False]] 0.006\n > Model[['add', False, None, 0, False, True]] 0.064\n > Model[['add', False, None, 0, False, False]] 0.004\n > Model[['add', False, None, 6, False, True]] 0.064\n > Model[['add', False, None, 6, False, False]] 0.004\n > Model[['add', False, None, 12, False, True]] 0.064\n > Model[['add', False, None, 12, False, False]] 0.004\n > Model[[None, False, 'add', 6, False, True]] 0.145\n > Model[[None, False, 'add', 6, False, False]] 0.146\n > Model[[None, False, None, 0, False, True]] 0.076\n > Model[[None, False, None, 0, False, False]] 0.006\n > Model[[None, False, None, 6, False, True]] 0.076\n > Model[[None, False, None, 6, False, False]] 0.006\n > Model[[None, False, None, 12, False, True]] 0.076\n > Model[[None, False, None, 12, False, False]] 0.006\n"
    },
    {
     "data": {
      "text/plain": "array([[-0.8306   ],\n       [-0.8145   ],\n       [-0.8098   ],\n       [-0.8014   ],\n       [-0.7887   ],\n       [-0.7856   ],\n       [-0.7801   ],\n       [-0.7803   ],\n       [-0.7784   ],\n       [-0.7692   ],\n       [-0.7638   ],\n       [-0.7639064],\n       [-0.7639064],\n       [-0.7639064],\n       [-0.7639064],\n       [-0.7639064]])"
     },
     "execution_count": 111,
     "metadata": {},
     "output_type": "execute_result"
    }
   ],
   "source": [
    "predict_n_steps(data,4,False)"
   ]
  },
  {
   "cell_type": "code",
   "execution_count": null,
   "metadata": {},
   "outputs": [],
   "source": []
  }
 ],
 "metadata": {
  "kernelspec": {
   "display_name": "Python 3",
   "language": "python",
   "name": "python3"
  },
  "language_info": {
   "codemirror_mode": {
    "name": "ipython",
    "version": 3
   },
   "file_extension": ".py",
   "mimetype": "text/x-python",
   "name": "python",
   "nbconvert_exporter": "python",
   "pygments_lexer": "ipython3",
   "version": "3.6.8-final"
  }
 },
 "nbformat": 4,
 "nbformat_minor": 2
}